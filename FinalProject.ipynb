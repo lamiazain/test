{
 "cells": [
  {
   "cell_type": "markdown",
   "metadata": {},
   "source": [
    "# Deploy and monitor a machine learning workflow for Image Classification"
   ]
  },
  {
   "cell_type": "markdown",
   "metadata": {},
   "source": [
    "## Setting up this notebook\n",
    "\n",
    "Notes about the instance size and kernel setup: this notebook has been tested on\n",
    "\n",
    "1. The `Python 3 (Data Science)` kernel\n",
    "2. The `ml.t3.medium` Sagemaker notebook instance\n",
    "\n",
    "## Data Staging\n",
    "\n",
    "We'll use a sample dataset called CIFAR to simulate the challenges Scones Unlimited are facing in Image Classification. In order to start working with CIFAR we'll need to:\n",
    "\n",
    "1. Extract the data from a hosting service\n",
    "2. Transform it into a usable shape and format\n",
    "3. Load it into a production system\n",
    "\n",
    "In other words, we're going to do some simple ETL!\n",
    "\n",
    "### 1. Extract the data from the hosting service\n",
    "\n",
    "In the cell below, define a function `extract_cifar_data` that extracts python version of the CIFAR-100 dataset. The CIFAR dataaset is open source and generously hosted by the University of Toronto at: https://www.cs.toronto.edu/~kriz/cifar-100-python.tar.gz "
   ]
  },
  {
   "cell_type": "code",
   "execution_count": 2,
   "metadata": {
    "tags": []
   },
   "outputs": [],
   "source": [
    "import requests\n",
    "\n",
    "def extract_cifar_data(url, filename=\"cifar.tar.gz\"):\n",
    "    \"\"\"A function for extracting the CIFAR-100 dataset and storing it as a gzipped file\n",
    "    \n",
    "    Arguments:\n",
    "    url      -- the URL where the dataset is hosted\n",
    "    filename -- the full path where the dataset will be written\n",
    "    \n",
    "    \"\"\"\n",
    "    \n",
    "    # Todo: request the data from the data url\n",
    "    # Hint: use `requests.get` method\n",
    "    r = requests.get(url)\n",
    "    with open(filename, \"wb\") as file_context:\n",
    "        file_context.write(r.content)\n",
    "    return"
   ]
  },
  {
   "cell_type": "markdown",
   "metadata": {},
   "source": [
    "Let's test it out! Run the following cell and check whether a new file `cifar.tar.gz` is created in the file explorer."
   ]
  },
  {
   "cell_type": "code",
   "execution_count": 3,
   "metadata": {
    "tags": []
   },
   "outputs": [],
   "source": [
    "extract_cifar_data(\"https://www.cs.toronto.edu/~kriz/cifar-100-python.tar.gz\")     "
   ]
  },
  {
   "cell_type": "markdown",
   "metadata": {},
   "source": [
    "### 2. Transform the data into a usable shape and format\n",
    "\n",
    "Clearly, distributing the data as a gzipped archive makes sense for the hosting service! It saves on bandwidth, storage, and it's a widely-used archive format. In fact, it's so widely used that the Python community ships a utility for working with them, `tarfile`, as part of its Standard Library. Execute the following cell to decompress your extracted dataset:"
   ]
  },
  {
   "cell_type": "code",
   "execution_count": 4,
   "metadata": {
    "tags": []
   },
   "outputs": [],
   "source": [
    "import tarfile\n",
    "\n",
    "with tarfile.open(\"cifar.tar.gz\", \"r:gz\") as tar:\n",
    "    tar.extractall()"
   ]
  },
  {
   "cell_type": "markdown",
   "metadata": {},
   "source": [
    "A new folder `cifar-100-python` should be created, containing `meta`, `test`, and `train` files. These files are `pickles` and the [CIFAR homepage](https://www.cs.toronto.edu/~kriz/cifar.html) provides a simple script that can be used to load them. We've adapted the script below for you to run:"
   ]
  },
  {
   "cell_type": "code",
   "execution_count": 5,
   "metadata": {
    "tags": []
   },
   "outputs": [],
   "source": [
    "import pickle\n",
    "\n",
    "with open(\"./cifar-100-python/meta\", \"rb\") as f:\n",
    "   #The primary purpose of pickle.load is to reconstruct a Python object from its serialized form\n",
    "    dataset_meta = pickle.load(f, encoding='bytes')\n",
    "\n",
    "with open(\"./cifar-100-python/test\", \"rb\") as f:\n",
    "    dataset_test = pickle.load(f, encoding='bytes')\n",
    "\n",
    "with open(\"./cifar-100-python/train\", \"rb\") as f:\n",
    "    dataset_train = pickle.load(f, encoding='bytes')"
   ]
  },
  {
   "cell_type": "code",
   "execution_count": 6,
   "metadata": {
    "tags": []
   },
   "outputs": [
    {
     "name": "stdout",
     "output_type": "stream",
     "text": [
      "dict_keys([b'fine_label_names', b'coarse_label_names'])\n",
      "['fine_label_names', 'coarse_label_names']\n",
      "Fine label names \n",
      ", [b'apple', b'aquarium_fish', b'baby', b'bear', b'beaver', b'bed', b'bee', b'beetle', b'bicycle', b'bottle', b'bowl', b'boy', b'bridge', b'bus', b'butterfly', b'camel', b'can', b'castle', b'caterpillar', b'cattle', b'chair', b'chimpanzee', b'clock', b'cloud', b'cockroach', b'couch', b'crab', b'crocodile', b'cup', b'dinosaur', b'dolphin', b'elephant', b'flatfish', b'forest', b'fox', b'girl', b'hamster', b'house', b'kangaroo', b'keyboard', b'lamp', b'lawn_mower', b'leopard', b'lion', b'lizard', b'lobster', b'man', b'maple_tree', b'motorcycle', b'mountain', b'mouse', b'mushroom', b'oak_tree', b'orange', b'orchid', b'otter', b'palm_tree', b'pear', b'pickup_truck', b'pine_tree', b'plain', b'plate', b'poppy', b'porcupine', b'possum', b'rabbit', b'raccoon', b'ray', b'road', b'rocket', b'rose', b'sea', b'seal', b'shark', b'shrew', b'skunk', b'skyscraper', b'snail', b'snake', b'spider', b'squirrel', b'streetcar', b'sunflower', b'sweet_pepper', b'table', b'tank', b'telephone', b'television', b'tiger', b'tractor', b'train', b'trout', b'tulip', b'turtle', b'wardrobe', b'whale', b'willow_tree', b'wolf', b'woman', b'worm'] \n",
      " It holds 100 elements\n",
      "Coarse label names \n",
      ", [b'aquatic_mammals', b'fish', b'flowers', b'food_containers', b'fruit_and_vegetables', b'household_electrical_devices', b'household_furniture', b'insects', b'large_carnivores', b'large_man-made_outdoor_things', b'large_natural_outdoor_scenes', b'large_omnivores_and_herbivores', b'medium_mammals', b'non-insect_invertebrates', b'people', b'reptiles', b'small_mammals', b'trees', b'vehicles_1', b'vehicles_2']\n",
      " It holds 20 elements\n"
     ]
    }
   ],
   "source": [
    "print(dataset_meta.keys())\n",
    "Decoded_meta_keys = [x.decode('utf-8') for x in dataset_meta.keys()] \n",
    "print(Decoded_meta_keys)\n",
    "print(f\"Fine label names \\n, {dataset_meta[b'fine_label_names']} \\n It holds {len(dataset_meta[b'fine_label_names'])} elements\")\n",
    "print(f\"Coarse label names \\n, {dataset_meta[b'coarse_label_names']}\\n It holds {len(dataset_meta[b'coarse_label_names'])} elements\")"
   ]
  },
  {
   "cell_type": "code",
   "execution_count": 41,
   "metadata": {
    "tags": []
   },
   "outputs": [
    {
     "name": "stdout",
     "output_type": "stream",
     "text": [
      "dict_keys([b'filenames', b'batch_label', b'fine_labels', b'coarse_labels', b'data'])\n",
      "First 10 file names are \n",
      " [b'bos_taurus_s_000507.png', b'stegosaurus_s_000125.png', b'mcintosh_s_000643.png', b'altar_boy_s_001435.png', b'cichlid_s_000031.png', b'phone_s_002161.png', b'car_train_s_000043.png', b'beaker_s_000604.png', b'fog_s_000397.png', b'rogue_elephant_s_000421.png']\n",
      "First 10 Fine labels are \n",
      " [19, 29, 0, 11, 1, 86, 90, 28, 23, 31]\n",
      "First 10 data points are \n",
      " [[255 255 255 ...  10  59  79]\n",
      " [255 253 253 ... 253 253 255]\n",
      " [250 248 247 ... 194 207 228]\n",
      " ...\n",
      " [178 175 175 ... 238 238 242]\n",
      " [122 127 134 ...  39  37  36]\n",
      " [255 255 255 ... 255 255 255]], \n",
      " each holds shape of (3072,)\n"
     ]
    }
   ],
   "source": [
    "print(dataset_train.keys())\n",
    "print(f\"First 10 file names are \\n {dataset_train[b'filenames'][0:10]}\" )\n",
    "print(f\"First 10 Fine labels are \\n {dataset_train[ b'fine_labels'][0:10]}\" )\n",
    "print(f\"First 10 data points are \\n {dataset_train[ b'data'][0:10]}, \\n each holds shape of {dataset_train[ b'data'][0].shape}\")\n",
    "#To DO: Find the corresponding first 10 Fine labels names"
   ]
  },
  {
   "cell_type": "code",
   "execution_count": 4,
   "metadata": {
    "tags": []
   },
   "outputs": [
    {
     "name": "stdout",
     "output_type": "stream",
     "text": [
      "50000\n",
      "11\n",
      "19\n",
      "(3072,)\n",
      "[255 255 255 ...  10  59  79]\n"
     ]
    }
   ],
   "source": [
    "# Feel free to explore the datasets\n",
    "#rain size =50 000 Inputs are file names \n",
    "#dict_keys([b'filenames', b'batch_label', b'fine_labels', b'coarse_labels', b'data'])\n",
    "#Image array size = 3072\n",
    "print(len(dataset_train[b'coarse_labels']))\n",
    "print(dataset_train[b'coarse_labels'][0])\n",
    "print(dataset_train[b'fine_labels'][0])\n",
    "print(dataset_train[b'data'][1].shape)\n",
    "print(dataset_train[b'data'][0])"
   ]
  },
  {
   "cell_type": "markdown",
   "metadata": {},
   "source": [
    "As documented on the homepage, `b'data'` contains rows of 3073 unsigned integers, representing three channels (red, green, and blue) for one 32x32 pixel image per row."
   ]
  },
  {
   "cell_type": "code",
   "execution_count": 169,
   "metadata": {},
   "outputs": [
    {
     "data": {
      "text/plain": [
       "3072"
      ]
     },
     "execution_count": 169,
     "metadata": {},
     "output_type": "execute_result"
    }
   ],
   "source": [
    "32*32*3"
   ]
  },
  {
   "cell_type": "markdown",
   "metadata": {},
   "source": [
    "For a simple gut-check, let's transform one of our images. Each 1024 items in a row is a channel (red, green, then blue). Each 32 items in the channel are a row in the 32x32 image. Using python, we can stack these channels into a 32x32x3 array, and save it as a PNG file:"
   ]
  },
  {
   "cell_type": "code",
   "execution_count": 62,
   "metadata": {
    "tags": []
   },
   "outputs": [],
   "source": [
    "import numpy as np\n",
    "\n",
    "# Each 1024 in a row is a channel (red, green, then blue)\n",
    "row = dataset_train[b'data'][0]\n",
    "red, green, blue = row[0:1024], row[1024:2048], row[2048:] #Slicing\n",
    "\n",
    "# Each 32 items in the channel are a row in the 32x32 image\n",
    "red = red.reshape(32,32)\n",
    "green = green.reshape(32,32)\n",
    "blue = blue.reshape(32,32)\n",
    "\n",
    "# Combine the channels into a 32x32x3 image! RGB\n",
    "combined = np.dstack((red,green,blue))"
   ]
  },
  {
   "cell_type": "markdown",
   "metadata": {},
   "source": [
    "For a more concise version, consider the following:"
   ]
  },
  {
   "cell_type": "code",
   "execution_count": 65,
   "metadata": {
    "tags": []
   },
   "outputs": [],
   "source": [
    "# All in one:\n",
    "row = dataset_train[b'data'][0]\n",
    "test_image = np.dstack((\n",
    "    row[0:1024].reshape(32,32),\n",
    "    row[1024:2048].reshape(32,32),\n",
    "    row[2048:].reshape(32,32)\n",
    "))"
   ]
  },
  {
   "cell_type": "code",
   "execution_count": 66,
   "metadata": {
    "tags": []
   },
   "outputs": [
    {
     "data": {
      "image/png": "[encoded data removed]",
      "text/plain": [
       "<Figure size 640x480 with 1 Axes>"
      ]
     },
     "metadata": {},
     "output_type": "display_data"
    }
   ],
   "source": [
    "import matplotlib.pyplot as plt\n",
    "plt.imshow(test_image);"
   ]
  },
  {
   "cell_type": "markdown",
   "metadata": {},
   "source": [
    "Looks like a cow! Let's check the label. `dataset_meta` contains label names in order, and `dataset_train` has a list of labels for each row."
   ]
  },
  {
   "cell_type": "markdown",
   "metadata": {},
   "source": [
    "Now we know how to check labels, is there a way that we can also check file names? `dataset_train` also contains a `b'filenames'` key. Let's see what we have here:"
   ]
  },
  {
   "cell_type": "code",
   "execution_count": 30,
   "metadata": {
    "tags": []
   },
   "outputs": [
    {
     "name": "stdout",
     "output_type": "stream",
     "text": [
      "19\n",
      "11\n",
      "b'bos_taurus_s_000507.png'\n"
     ]
    }
   ],
   "source": [
    "print(dataset_train[b'fine_labels'][0])\n",
    "print(dataset_train[b'coarse_labels'][0])\n",
    "print(dataset_train[b'filenames'][0])"
   ]
  },
  {
   "cell_type": "markdown",
   "metadata": {},
   "source": [
    "\"Taurus\" is the name of a subspecies of cattle, so this looks like a pretty reasonable filename. To save an image we can also do:"
   ]
  },
  {
   "cell_type": "markdown",
   "metadata": {},
   "source": [
    "Our image has a label of `19`, so let's see what the 19th item is in the list of label names."
   ]
  },
  {
   "cell_type": "code",
   "execution_count": 9,
   "metadata": {
    "tags": []
   },
   "outputs": [
    {
     "name": "stdout",
     "output_type": "stream",
     "text": [
      "cattle\n",
      "large_omnivores_and_herbivores\n"
     ]
    }
   ],
   "source": [
    "print(dataset_meta[b'fine_label_names'][19].decode('utf-8'))\n",
    "print(dataset_meta[b'coarse_label_names'][11].decode('utf-8'))\n"
   ]
  },
  {
   "cell_type": "markdown",
   "metadata": {},
   "source": [
    "Ok! 'cattle' sounds about right. By the way, using the previous two lines we can do:"
   ]
  },
  {
   "cell_type": "code",
   "execution_count": 47,
   "metadata": {
    "tags": []
   },
   "outputs": [],
   "source": [
    "plt.imsave(\"cattle.png\", test_image)"
   ]
  },
  {
   "cell_type": "markdown",
   "metadata": {},
   "source": [
    "Your new PNG file should now appear in the file explorer -- go ahead and pop it open to see!"
   ]
  },
  {
   "cell_type": "markdown",
   "metadata": {},
   "source": [
    "In the following cell, identify the label numbers for Bicycles and Motorcycles:\n",
    "    "
   ]
  },
  {
   "cell_type": "code",
   "execution_count": 67,
   "metadata": {
    "tags": []
   },
   "outputs": [
    {
     "name": "stdout",
     "output_type": "stream",
     "text": [
      "Index of a bike is 8 and index of a motor bike is 48\n"
     ]
    }
   ],
   "source": [
    "import pandas as pd\n",
    "# Todo: Filter the dataset_train and dataset_meta objects to find the label numbers for Bicycle and Motorcycles\n",
    "FineLabelsNames = dataset_meta[b'fine_label_names']\n",
    "index_bike = FineLabelsNames.index(b'bicycle')\n",
    "index_motorBike = FineLabelsNames.index(b'motorcycle')\n",
    "print(f\"Index of a bike is {index_bike} and index of a motor bike is {index_motorBike}\")\n",
    "                                   "
   ]
  },
  {
   "cell_type": "markdown",
   "metadata": {},
   "source": [
    "Good job! We only need objects with label 8 and 48 -- this drastically simplifies our handling of the data! Below we construct a dataframe for you, and you can safely drop the rows that don't contain observations about bicycles and motorcycles. Fill in the missing lines below to drop all other rows:"
   ]
  },
  {
   "cell_type": "markdown",
   "metadata": {},
   "source": [
    "Create a data frame for training and testing datasets for better visualization"
   ]
  },
  {
   "cell_type": "code",
   "execution_count": 68,
   "metadata": {
    "tags": []
   },
   "outputs": [],
   "source": [
    "#Construct the dataframe\n",
    "df_train = pd.DataFrame({\n",
    "    \"filenames\": dataset_train[b'filenames'],\n",
    "    \"labels\": dataset_train[b'fine_labels'],\n",
    "    \"row\": range(len(dataset_train[b'filenames']))\n",
    "})\n",
    "\n",
    "df_train = df_train[(df_train[\"labels\"]==8)  |  (df_train[\"labels\"] == 48)] #Filter records of DF Based on columns elements\n",
    "df_train['filenames'] = df_train['filenames'].apply(lambda x: x.decode('utf-8'))\n"
   ]
  },
  {
   "cell_type": "code",
   "execution_count": 69,
   "metadata": {
    "tags": []
   },
   "outputs": [
    {
     "data": {
      "text/html": [
       "<div>\n",
       "<style scoped>\n",
       "    .dataframe tbody tr th:only-of-type {\n",
       "        vertical-align: middle;\n",
       "    }\n",
       "\n",
       "    .dataframe tbody tr th {\n",
       "        vertical-align: top;\n",
       "    }\n",
       "\n",
       "    .dataframe thead th {\n",
       "        text-align: right;\n",
       "    }\n",
       "</style>\n",
       "<table border=\"1\" class=\"dataframe\">\n",
       "  <thead>\n",
       "    <tr style=\"text-align: right;\">\n",
       "      <th></th>\n",
       "      <th>filenames</th>\n",
       "      <th>labels</th>\n",
       "      <th>row</th>\n",
       "    </tr>\n",
       "  </thead>\n",
       "  <tbody>\n",
       "    <tr>\n",
       "      <th>16</th>\n",
       "      <td>bike_s_000682.png</td>\n",
       "      <td>8</td>\n",
       "      <td>16</td>\n",
       "    </tr>\n",
       "    <tr>\n",
       "      <th>30</th>\n",
       "      <td>bike_s_000127.png</td>\n",
       "      <td>8</td>\n",
       "      <td>30</td>\n",
       "    </tr>\n",
       "    <tr>\n",
       "      <th>130</th>\n",
       "      <td>cycle_s_002598.png</td>\n",
       "      <td>8</td>\n",
       "      <td>130</td>\n",
       "    </tr>\n",
       "    <tr>\n",
       "      <th>152</th>\n",
       "      <td>minibike_s_000824.png</td>\n",
       "      <td>48</td>\n",
       "      <td>152</td>\n",
       "    </tr>\n",
       "    <tr>\n",
       "      <th>195</th>\n",
       "      <td>motorcycle_s_001856.png</td>\n",
       "      <td>48</td>\n",
       "      <td>195</td>\n",
       "    </tr>\n",
       "  </tbody>\n",
       "</table>\n",
       "</div>"
      ],
      "text/plain": [
       "                   filenames  labels  row\n",
       "16         bike_s_000682.png       8   16\n",
       "30         bike_s_000127.png       8   30\n",
       "130       cycle_s_002598.png       8  130\n",
       "152    minibike_s_000824.png      48  152\n",
       "195  motorcycle_s_001856.png      48  195"
      ]
     },
     "execution_count": 69,
     "metadata": {},
     "output_type": "execute_result"
    }
   ],
   "source": [
    "df_train.head()"
   ]
  },
  {
   "cell_type": "code",
   "execution_count": 74,
   "metadata": {
    "tags": []
   },
   "outputs": [
    {
     "name": "stdout",
     "output_type": "stream",
     "text": [
      "1000\n"
     ]
    }
   ],
   "source": [
    "print(len(df_train[\"filenames\"]))"
   ]
  },
  {
   "cell_type": "code",
   "execution_count": 73,
   "metadata": {
    "tags": []
   },
   "outputs": [
    {
     "data": {
      "text/html": [
       "<div>\n",
       "<style scoped>\n",
       "    .dataframe tbody tr th:only-of-type {\n",
       "        vertical-align: middle;\n",
       "    }\n",
       "\n",
       "    .dataframe tbody tr th {\n",
       "        vertical-align: top;\n",
       "    }\n",
       "\n",
       "    .dataframe thead th {\n",
       "        text-align: right;\n",
       "    }\n",
       "</style>\n",
       "<table border=\"1\" class=\"dataframe\">\n",
       "  <thead>\n",
       "    <tr style=\"text-align: right;\">\n",
       "      <th></th>\n",
       "      <th>filenames</th>\n",
       "      <th>labels</th>\n",
       "      <th>row</th>\n",
       "    </tr>\n",
       "  </thead>\n",
       "  <tbody>\n",
       "    <tr>\n",
       "      <th>27</th>\n",
       "      <td>safety_bike_s_000390.png</td>\n",
       "      <td>8</td>\n",
       "      <td>27</td>\n",
       "    </tr>\n",
       "    <tr>\n",
       "      <th>28</th>\n",
       "      <td>bike_s_000658.png</td>\n",
       "      <td>8</td>\n",
       "      <td>28</td>\n",
       "    </tr>\n",
       "    <tr>\n",
       "      <th>116</th>\n",
       "      <td>velocipede_s_001744.png</td>\n",
       "      <td>8</td>\n",
       "      <td>116</td>\n",
       "    </tr>\n",
       "    <tr>\n",
       "      <th>161</th>\n",
       "      <td>bike_s_000643.png</td>\n",
       "      <td>8</td>\n",
       "      <td>161</td>\n",
       "    </tr>\n",
       "    <tr>\n",
       "      <th>319</th>\n",
       "      <td>ordinary_bicycle_s_000437.png</td>\n",
       "      <td>8</td>\n",
       "      <td>319</td>\n",
       "    </tr>\n",
       "  </tbody>\n",
       "</table>\n",
       "</div>"
      ],
      "text/plain": [
       "                         filenames  labels  row\n",
       "27        safety_bike_s_000390.png       8   27\n",
       "28               bike_s_000658.png       8   28\n",
       "116        velocipede_s_001744.png       8  116\n",
       "161              bike_s_000643.png       8  161\n",
       "319  ordinary_bicycle_s_000437.png       8  319"
      ]
     },
     "execution_count": 73,
     "metadata": {},
     "output_type": "execute_result"
    }
   ],
   "source": [
    "df_test = pd.DataFrame({\n",
    "    \"filenames\": dataset_test[b'filenames'],\n",
    "    \"labels\": dataset_test[b'fine_labels'],\n",
    "    \"row\": range(len(dataset_test[b'filenames']))\n",
    "})\n",
    "df_test = df_test[(df_test[\"labels\"]==8)  |  (df_test[\"labels\"] == 48)] \n",
    "\n",
    "df_test[\"filenames\"] = df_test[\"filenames\"].apply(\n",
    "    lambda x: x.decode(\"utf-8\")\n",
    ")\n",
    "\n",
    "df_test.head()"
   ]
  },
  {
   "cell_type": "code",
   "execution_count": 75,
   "metadata": {
    "tags": []
   },
   "outputs": [
    {
     "name": "stdout",
     "output_type": "stream",
     "text": [
      "200\n"
     ]
    }
   ],
   "source": [
    "print(len(df_test[\"filenames\"]))"
   ]
  },
  {
   "cell_type": "markdown",
   "metadata": {},
   "source": [
    "\n",
    "Now that you know how to reshape the images, save them as files, and capture their filenames and labels, let's just capture all the bicycles and motorcycles and save them. Scones Unlimited can use a model that tells these apart to route delivery drivers automatically.\n",
    "\n"
   ]
  },
  {
   "cell_type": "markdown",
   "metadata": {},
   "source": [
    "Now that the data is filtered for just our classes, we can save all our images."
   ]
  },
  {
   "cell_type": "code",
   "execution_count": 76,
   "metadata": {
    "tags": []
   },
   "outputs": [
    {
     "name": "stdout",
     "output_type": "stream",
     "text": [
      "mkdir: cannot create directory ‘./train’: File exists\n",
      "mkdir: cannot create directory ‘./test’: File exists\n"
     ]
    }
   ],
   "source": [
    "!mkdir ./train\n",
    "!mkdir ./test"
   ]
  },
  {
   "cell_type": "markdown",
   "metadata": {},
   "source": [
    "In the previous sections we introduced you to several key snippets of code:\n",
    "\n",
    "1. Grabbing the image data:\n",
    "\n",
    "```python\n",
    "dataset_train[b'data'][0]\n",
    "```\n",
    "\n",
    "2. A simple idiom for stacking the image data into the right shape\n",
    "\n",
    "```python\n",
    "import numpy as np\n",
    "np.dstack((\n",
    "    row[0:1024].reshape(32,32),\n",
    "    row[1024:2048].reshape(32,32),\n",
    "    row[2048:].reshape(32,32)\n",
    "))\n",
    "```\n",
    "\n",
    "3. A simple `matplotlib` utility for saving images\n",
    "\n",
    "```python\n",
    "plt.imsave(path+row['filenames'], target)\n",
    "```\n",
    "\n",
    "Compose these together into a function that saves all the images into the `./test` and `./train` directories. Use the comments in the body of the `save_images` function below to guide your construction of the function:\n"
   ]
  },
  {
   "cell_type": "code",
   "execution_count": 58,
   "metadata": {
    "tags": []
   },
   "outputs": [],
   "source": [
    "import os\n",
    "import numpy as np\n",
    "import matplotlib.pyplot as plt \n",
    "\n",
    "def save_images(name,path,data):\n",
    "    #Grab the image data in row-major form\n",
    "     #Change is needed in the following line depending on train or test dataset\n",
    "    img = np.dstack((data[0:1024].reshape(32,32),\n",
    "                   data[1024:2048].reshape(32,32),\n",
    "                   data[2048:].reshape(32,32)\n",
    "                  ))\n",
    "    \n",
    "    # Consolidated stacking/reshaping from earlier \n",
    "    target_path=os.path.join(path,name)       #Change is needed depending on train or test dataset\n",
    "    \n",
    "    # Save the image\n",
    "    plt.imsave(target_path,img)\n",
    "    \n",
    "    # Return any signal data you want for debugging\n",
    "    return True\n",
    "\n",
    "## TODO: save ALL images using the save_images function\n",
    "train_path =\"./train\" \n",
    "for name in df_train['filenames'] :    #Change is needed depending on train or test dataset\n",
    "    array_1D = dataset_train[b'data'][dataset_train[b'filenames'].index(name.encode('utf-8'))]\n",
    "    save_images(name,train_path,array_1D)"
   ]
  },
  {
   "cell_type": "code",
   "execution_count": 59,
   "metadata": {
    "tags": []
   },
   "outputs": [],
   "source": [
    "test_path = \"./test\"\n",
    "for name in df_test['filenames'] :    #Change is needed depending on train or test dataset\n",
    "    array_1D = dataset_test[b'data'][dataset_test[b'filenames'].index(name.encode('utf-8'))]\n",
    "    save_images(name,test_path,array_1D)"
   ]
  },
  {
   "cell_type": "markdown",
   "metadata": {},
   "source": [
    "### 3. Load the data\n",
    "\n",
    "Now we can load the data into S3.\n",
    "\n",
    "Using the sagemaker SDK grab the current region, execution role, and bucket."
   ]
  },
  {
   "cell_type": "code",
   "execution_count": 77,
   "metadata": {
    "tags": []
   },
   "outputs": [
    {
     "name": "stdout",
     "output_type": "stream",
     "text": [
      "sagemaker.config INFO - Not applying SDK defaults from location: /etc/xdg/sagemaker/config.yaml\n",
      "sagemaker.config INFO - Not applying SDK defaults from location: /root/.config/sagemaker/config.yaml\n",
      "Bucket: scone-unlimited-dataset\n",
      "AWS Region: us-east-1\n",
      "sagemaker.config INFO - Not applying SDK defaults from location: /etc/xdg/sagemaker/config.yaml\n",
      "sagemaker.config INFO - Not applying SDK defaults from location: /root/.config/sagemaker/config.yaml\n",
      "RoleArn: arn:aws:iam::091788420555:role/service-role/AmazonSageMaker-ExecutionRole-20230910T053077\n"
     ]
    }
   ],
   "source": [
    "import sagemaker\n",
    "import sagemaker.session as session\n",
    "from sagemaker import get_execution_role\n",
    "\n",
    "\n",
    "session= session.Session()\n",
    "bucket_Name= \"scone-unlimited-dataset\"\n",
    "print(\"Bucket: {}\".format(bucket_Name))\n",
    "\n",
    "region = session.boto_region_name\n",
    "print(\"AWS Region: {}\".format(region))\n",
    "\n",
    "role = get_execution_role()\n",
    "print(\"RoleArn: {}\".format(role))"
   ]
  },
  {
   "cell_type": "markdown",
   "metadata": {},
   "source": [
    "With this data we can easily sync your data up into S3!"
   ]
  },
  {
   "cell_type": "code",
   "execution_count": 15,
   "metadata": {
    "tags": []
   },
   "outputs": [],
   "source": [
    "import os\n",
    "\n",
    "#upload train and test images to s3\n",
    "\n",
    "os.environ[\"S3_BUCKET\"] = bucket_Name\n",
    "!aws s3 sync ./train s3://${S3_BUCKET}/ProjectUnit2/train/\n",
    "!aws s3 sync ./test s3://${S3_BUCKET}/ProjectUnit2/test/"
   ]
  },
  {
   "cell_type": "markdown",
   "metadata": {},
   "source": [
    "And that's it! You can check the bucket and verify that the items were uploaded.\n",
    "\n",
    "## Model Training\n",
    "\n",
    "For Image Classification, Sagemaker [also expects metadata](https://docs.aws.amazon.com/sagemaker/latest/dg/image-classification.html) e.g. in the form of TSV files with labels and filepaths. We can generate these using our Pandas DataFrames from earlier:"
   ]
  },
  {
   "cell_type": "code",
   "execution_count": 78,
   "metadata": {
    "tags": []
   },
   "outputs": [],
   "source": [
    "def to_metadata_file(df, prefix):\n",
    "    df[\"s3_path\"] = df['filenames']\n",
    "    df[\"labels\"] = df[\"labels\"].apply(lambda x: 0 if x==8 else 1) #Binary classification\n",
    "    return df[['row',\"labels\", \"s3_path\"]].to_csv(\n",
    "        f\"{prefix}.lst\", sep=\"\\t\", index=False, header=False\n",
    "    )\n",
    "#save meta data locally as train.lst and test.lst  \n",
    "to_metadata_file(df_train.copy(), \"train\")\n",
    "to_metadata_file(df_test.copy(), \"test\")"
   ]
  },
  {
   "cell_type": "markdown",
   "metadata": {},
   "source": [
    "We can also upload our manifest files:"
   ]
  },
  {
   "cell_type": "code",
   "execution_count": 79,
   "metadata": {
    "tags": []
   },
   "outputs": [],
   "source": [
    "import boto3\n",
    "\n",
    "# Upload files to s3 \n",
    "boto3.Session().resource('s3').Bucket(bucket_Name).Object('ProjectUnit2/train.lst').upload_file('./train.lst')\n",
    "boto3.Session().resource('s3').Bucket(bucket_Name).Object('ProjectUnit2/test.lst').upload_file('./test.lst')"
   ]
  },
  {
   "cell_type": "markdown",
   "metadata": {},
   "source": [
    "Using the `bucket` and `region` info we can get the latest prebuilt container to run our training job, and define an output location on our s3 bucket for the model. Use the `image_uris` function from the SageMaker SDK to retrieve the latest `image-classification` image below:"
   ]
  },
  {
   "cell_type": "code",
   "execution_count": 80,
   "metadata": {
    "tags": []
   },
   "outputs": [
    {
     "name": "stderr",
     "output_type": "stream",
     "text": [
      "Defaulting to the only supported framework/algorithm version: 1. Ignoring framework/algorithm version: latest.\n"
     ]
    }
   ],
   "source": [
    "# Use the image_uris function to retrieve the latest 'image-classification' image \n",
    "import boto3\n",
    "from sagemaker import image_uris\n",
    "\n",
    "Container = image_uris.retrieve(\n",
    "    region=boto3.Session().region_name, framework=\"image-classification\",version ='latest'\n",
    ")\n",
    "s3_output_location = f\"s3://{bucket_Name}/models/image_model\""
   ]
  },
  {
   "cell_type": "code",
   "execution_count": 17,
   "metadata": {
    "tags": []
   },
   "outputs": [
    {
     "data": {
      "text/plain": [
       "'811284229777.dkr.ecr.us-east-1.amazonaws.com/image-classification:1'"
      ]
     },
     "execution_count": 17,
     "metadata": {},
     "output_type": "execute_result"
    }
   ],
   "source": [
    "Container"
   ]
  },
  {
   "cell_type": "markdown",
   "metadata": {},
   "source": [
    "We're ready to create an estimator! Create an estimator `img_classifier_model` that uses one instance of `ml.p3.2xlarge`. Ensure that y ou use the output location we defined above - we'll be referring to that later!"
   ]
  },
  {
   "cell_type": "code",
   "execution_count": 81,
   "metadata": {
    "tags": []
   },
   "outputs": [],
   "source": [
    "img_classifier_model = sagemaker.estimator.Estimator(\n",
    "    ## TODO: define your estimator options  \n",
    "    image_uri=Container,\n",
    "    role=role,\n",
    "    instance_count=1,\n",
    "    instance_type = 'ml.p3.2xlarge',\n",
    "    input_mode='File',\n",
    "    output_path=s3_output_location,\n",
    "    sagemaker_session=session,\n",
    "    \n",
    ")"
   ]
  },
  {
   "cell_type": "markdown",
   "metadata": {},
   "source": [
    "We can also set a few key hyperparameters and define the inputs for our model:"
   ]
  },
  {
   "cell_type": "code",
   "execution_count": 82,
   "metadata": {
    "tags": []
   },
   "outputs": [],
   "source": [
    "img_classifier_model.set_hyperparameters(\n",
    "    image_shape = \"3,32,32\", # TODO: Fill in\n",
    "    num_classes=2, # TODO: Fill in\n",
    "    num_training_samples =1000 # TODO: fill in\n",
    ")"
   ]
  },
  {
   "cell_type": "markdown",
   "metadata": {},
   "source": [
    "The `image-classification` image uses four input channels with very specific input parameters. For convenience, we've provided them below:"
   ]
  },
  {
   "cell_type": "code",
   "execution_count": 20,
   "metadata": {
    "tags": []
   },
   "outputs": [],
   "source": [
    "from sagemaker.debugger import Rule, rule_configs\n",
    "from sagemaker.session import TrainingInput\n",
    "model_inputs = {\n",
    "        \"train\": sagemaker.inputs.TrainingInput(\n",
    "            s3_data=f\"s3://{bucket_Name}/ProjectUnit2/train/\",\n",
    "            content_type=\"application/x-image\"\n",
    "        ),\n",
    "        \"validation\": sagemaker.inputs.TrainingInput(\n",
    "            s3_data=f\"s3://{bucket_Name}/ProjectUnit2/test/\",\n",
    "            content_type=\"application/x-image\"\n",
    "        ),\n",
    "        \"train_lst\": sagemaker.inputs.TrainingInput(\n",
    "            s3_data=f\"s3://{bucket_Name}/ProjectUnit2/train.lst\",\n",
    "            content_type=\"application/x-image\"\n",
    "        ),\n",
    "        \"validation_lst\": sagemaker.inputs.TrainingInput(\n",
    "            s3_data=f\"s3://{bucket_Name}/ProjectUnit2/test.lst\",\n",
    "            content_type=\"application/x-image\"\n",
    "        )\n",
    "}"
   ]
  },
  {
   "cell_type": "markdown",
   "metadata": {},
   "source": [
    "Great, now we can train the model using the model_inputs. In the cell below, call the `fit` method on our model,:"
   ]
  },
  {
   "cell_type": "code",
   "execution_count": 40,
   "metadata": {
    "tags": []
   },
   "outputs": [
    {
     "name": "stderr",
     "output_type": "stream",
     "text": [
      "INFO:sagemaker:Creating training-job with name: image-classification-2023-09-11-21-25-44-680\n"
     ]
    },
    {
     "name": "stdout",
     "output_type": "stream",
     "text": [
      "2023-09-11 21:25:44 Starting - Starting the training job......\n",
      "2023-09-11 21:26:22 Starting - Preparing the instances for training......\n",
      "2023-09-11 21:27:34 Downloading - Downloading input data...\n",
      "2023-09-11 21:28:04 Training - Downloading the training image............\n",
      "2023-09-11 21:30:05 Training - Training image download completed. Training in progress...\u001b[34mDocker entrypoint called with argument(s): train\u001b[0m\n",
      "\u001b[34mRunning default environment configuration script\u001b[0m\n",
      "\u001b[34mNvidia gpu devices, drivers and cuda toolkit versions (only available on hosts with GPU):\u001b[0m\n",
      "\u001b[34mMon Sep 11 21:30:29 2023       \u001b[0m\n",
      "\u001b[34m+---------------------------------------------------------------------------------------+\u001b[0m\n",
      "\u001b[34m| NVIDIA-SMI 535.54.03              Driver Version: 535.54.03    CUDA Version: 12.2     |\u001b[0m\n",
      "\u001b[34m|-----------------------------------------+----------------------+----------------------+\u001b[0m\n",
      "\u001b[34m| GPU  Name                 Persistence-M | Bus-Id        Disp.A | Volatile Uncorr. ECC |\u001b[0m\n",
      "\u001b[34m| Fan  Temp   Perf          Pwr:Usage/Cap |         Memory-Usage | GPU-Util  Compute M. |\u001b[0m\n",
      "\u001b[34m|                                         |                      |               MIG M. |\u001b[0m\n",
      "\u001b[34m|=========================================+======================+======================|\u001b[0m\n",
      "\u001b[34m|   0  Tesla V100-SXM2-16GB           On  | 00000000:00:1E.0 Off |                    0 |\u001b[0m\n",
      "\u001b[34m| N/A   38C    P0              25W / 300W |      0MiB / 16384MiB |      0%      Default |\u001b[0m\n",
      "\u001b[34m|                                         |                      |                  N/A |\u001b[0m\n",
      "\u001b[34m+-----------------------------------------+----------------------+----------------------+\n",
      "                                                                                         \u001b[0m\n",
      "\u001b[34m+---------------------------------------------------------------------------------------+\u001b[0m\n",
      "\u001b[34m| Processes:                                                                            |\u001b[0m\n",
      "\u001b[34m|  GPU   GI   CI        PID   Type   Process name                            GPU Memory |\u001b[0m\n",
      "\u001b[34m|        ID   ID                                                             Usage      |\u001b[0m\n",
      "\u001b[34m|=======================================================================================|\u001b[0m\n",
      "\u001b[34m|  No running processes found                                                           |\u001b[0m\n",
      "\u001b[34m+---------------------------------------------------------------------------------------+\u001b[0m\n",
      "\u001b[34mChecking for nvidia driver and cuda compatibility.\u001b[0m\n",
      "\u001b[34mCUDA Compatibility driver provided.\u001b[0m\n",
      "\u001b[34mProceeding with compatibility check between driver, cuda-toolkit and cuda-compat.\u001b[0m\n",
      "\u001b[34mDetected cuda-toolkit version: 11.1.\u001b[0m\n",
      "\u001b[34mDetected cuda-compat version: 455.32.00.\u001b[0m\n",
      "\u001b[34mDetected Nvidia driver version: 535.54.03.\u001b[0m\n",
      "\u001b[34mNvidia driver compatible with cuda-toolkit. Disabling cuda-compat.\u001b[0m\n",
      "\u001b[34m[09/11/2023 21:30:33 INFO 140551053276992] Reading default configuration from /opt/amazon/lib/python3.7/site-packages/image_classification/default-input.json: {'use_pretrained_model': 0, 'num_layers': 152, 'epochs': 30, 'learning_rate': 0.1, 'lr_scheduler_factor': 0.1, 'optimizer': 'sgd', 'momentum': 0, 'weight_decay': 0.0001, 'beta_1': 0.9, 'beta_2': 0.999, 'eps': 1e-08, 'gamma': 0.9, 'mini_batch_size': 32, 'image_shape': '3,224,224', 'precision_dtype': 'float32'}\u001b[0m\n",
      "\u001b[34m[09/11/2023 21:30:33 INFO 140551053276992] Merging with provided configuration from /opt/ml/input/config/hyperparameters.json: {'image_shape': '3,32,32', 'num_classes': '2', 'num_training_samples': '1000'}\u001b[0m\n",
      "\u001b[34m[09/11/2023 21:30:33 INFO 140551053276992] Final configuration: {'use_pretrained_model': 0, 'num_layers': 152, 'epochs': 30, 'learning_rate': 0.1, 'lr_scheduler_factor': 0.1, 'optimizer': 'sgd', 'momentum': 0, 'weight_decay': 0.0001, 'beta_1': 0.9, 'beta_2': 0.999, 'eps': 1e-08, 'gamma': 0.9, 'mini_batch_size': 32, 'image_shape': '3,32,32', 'precision_dtype': 'float32', 'num_classes': '2', 'num_training_samples': '1000'}\u001b[0m\n",
      "\u001b[34m[09/11/2023 21:30:33 INFO 140551053276992] Searching for .lst files in /opt/ml/input/data/train_lst.\u001b[0m\n",
      "\u001b[34m[09/11/2023 21:30:33 INFO 140551053276992] Creating record files for train.lst\u001b[0m\n",
      "\u001b[34m[09/11/2023 21:30:33 INFO 140551053276992] Done creating record files...\u001b[0m\n",
      "\u001b[34m[09/11/2023 21:30:33 INFO 140551053276992] Searching for .lst files in /opt/ml/input/data/validation_lst.\u001b[0m\n",
      "\u001b[34m[09/11/2023 21:30:33 INFO 140551053276992] Creating record files for test.lst\u001b[0m\n",
      "\u001b[34m[09/11/2023 21:30:33 INFO 140551053276992] Done creating record files...\u001b[0m\n",
      "\u001b[34m[09/11/2023 21:30:33 INFO 140551053276992] use_pretrained_model: 0\u001b[0m\n",
      "\u001b[34m[09/11/2023 21:30:33 INFO 140551053276992] multi_label: 0\u001b[0m\n",
      "\u001b[34m[09/11/2023 21:30:33 INFO 140551053276992] Performing random weight initialization\u001b[0m\n",
      "\u001b[34m[09/11/2023 21:30:33 INFO 140551053276992] ---- Parameters ----\u001b[0m\n",
      "\u001b[34m[09/11/2023 21:30:33 INFO 140551053276992] num_layers: 152\u001b[0m\n",
      "\u001b[34m[09/11/2023 21:30:33 INFO 140551053276992] data type: <class 'numpy.float32'>\u001b[0m\n",
      "\u001b[34m[09/11/2023 21:30:33 INFO 140551053276992] epochs: 30\u001b[0m\n",
      "\u001b[34m[09/11/2023 21:30:33 INFO 140551053276992] optimizer: sgd\u001b[0m\n",
      "\u001b[34m[09/11/2023 21:30:33 INFO 140551053276992] momentum: 0.9\u001b[0m\n",
      "\u001b[34m[09/11/2023 21:30:33 INFO 140551053276992] weight_decay: 0.0001\u001b[0m\n",
      "\u001b[34m[09/11/2023 21:30:33 INFO 140551053276992] learning_rate: 0.1\u001b[0m\n",
      "\u001b[34m[09/11/2023 21:30:33 INFO 140551053276992] num_training_samples: 1000\u001b[0m\n",
      "\u001b[34m[09/11/2023 21:30:33 INFO 140551053276992] mini_batch_size: 32\u001b[0m\n",
      "\u001b[34m[09/11/2023 21:30:33 INFO 140551053276992] image_shape: 3,32,32\u001b[0m\n",
      "\u001b[34m[09/11/2023 21:30:33 INFO 140551053276992] num_classes: 2\u001b[0m\n",
      "\u001b[34m[09/11/2023 21:30:33 INFO 140551053276992] augmentation_type: None\u001b[0m\n",
      "\u001b[34m[09/11/2023 21:30:33 INFO 140551053276992] kv_store: device\u001b[0m\n",
      "\u001b[34m[09/11/2023 21:30:33 INFO 140551053276992] checkpoint_frequency not set, will store the best model\u001b[0m\n",
      "\u001b[34m[09/11/2023 21:30:33 INFO 140551053276992] --------------------\u001b[0m\n",
      "\u001b[34m[09/11/2023 21:30:33 INFO 140551053276992] Setting number of threads: 7\u001b[0m\n",
      "\u001b[34m[21:30:37] /opt/brazil-pkg-cache/packages/AIAlgorithmsMXNet/AIAlgorithmsMXNet-1.4.x_ecl_Cuda_11.1.x.230.0/AL2_x86_64/generic-flavor/src/src/operator/nn/./cudnn/./cudnn_algoreg-inl.h:97: Running performance tests to find the best convolution algorithm, this can take a while... (setting env variable MXNET_CUDNN_AUTOTUNE_DEFAULT to 0 to disable)\u001b[0m\n",
      "\u001b[34m[09/11/2023 21:30:42 INFO 140551053276992] Epoch[0] Batch [20]#011Speed: 125.475 samples/sec#011accuracy=0.552083\u001b[0m\n",
      "\u001b[34m[09/11/2023 21:30:43 INFO 140551053276992] Epoch[0] Train-accuracy=0.597782\u001b[0m\n",
      "\u001b[34m[09/11/2023 21:30:43 INFO 140551053276992] Epoch[0] Time cost=6.711\u001b[0m\n",
      "\u001b[34m[09/11/2023 21:30:44 INFO 140551053276992] Epoch[0] Validation-accuracy=0.484375\u001b[0m\n",
      "\u001b[34m[09/11/2023 21:30:44 INFO 140551053276992] Storing the best model with validation accuracy: 0.484375\u001b[0m\n",
      "\u001b[34m[09/11/2023 21:30:45 INFO 140551053276992] Saved checkpoint to \"/opt/ml/model/image-classification-0001.params\"\u001b[0m\n",
      "\u001b[34m[09/11/2023 21:30:48 INFO 140551053276992] Epoch[1] Batch [20]#011Speed: 187.814 samples/sec#011accuracy=0.671131\u001b[0m\n",
      "\u001b[34m[09/11/2023 21:30:50 INFO 140551053276992] Epoch[1] Train-accuracy=0.674395\u001b[0m\n",
      "\u001b[34m[09/11/2023 21:30:50 INFO 140551053276992] Epoch[1] Time cost=5.044\u001b[0m\n",
      "\u001b[34m[09/11/2023 21:30:50 INFO 140551053276992] Epoch[1] Validation-accuracy=0.500000\u001b[0m\n",
      "\u001b[34m[09/11/2023 21:30:50 INFO 140551053276992] Storing the best model with validation accuracy: 0.500000\u001b[0m\n",
      "\u001b[34m[09/11/2023 21:30:51 INFO 140551053276992] Saved checkpoint to \"/opt/ml/model/image-classification-0002.params\"\u001b[0m\n",
      "\u001b[34m[09/11/2023 21:30:54 INFO 140551053276992] Epoch[2] Batch [20]#011Speed: 194.594 samples/sec#011accuracy=0.669643\u001b[0m\n",
      "\u001b[34m[09/11/2023 21:30:56 INFO 140551053276992] Epoch[2] Train-accuracy=0.669355\u001b[0m\n",
      "\u001b[34m[09/11/2023 21:30:56 INFO 140551053276992] Epoch[2] Time cost=4.896\u001b[0m\n",
      "\u001b[34m[09/11/2023 21:30:56 INFO 140551053276992] Epoch[2] Validation-accuracy=0.687500\u001b[0m\n",
      "\u001b[34m[09/11/2023 21:30:57 INFO 140551053276992] Storing the best model with validation accuracy: 0.687500\u001b[0m\n",
      "\u001b[34m[09/11/2023 21:30:57 INFO 140551053276992] Saved checkpoint to \"/opt/ml/model/image-classification-0003.params\"\u001b[0m\n",
      "\u001b[34m[09/11/2023 21:31:00 INFO 140551053276992] Epoch[3] Batch [20]#011Speed: 194.278 samples/sec#011accuracy=0.706845\u001b[0m\n",
      "\u001b[34m[09/11/2023 21:31:02 INFO 140551053276992] Epoch[3] Train-accuracy=0.741935\u001b[0m\n",
      "\u001b[34m[09/11/2023 21:31:02 INFO 140551053276992] Epoch[3] Time cost=4.939\u001b[0m\n",
      "\u001b[34m[09/11/2023 21:31:02 INFO 140551053276992] Epoch[3] Validation-accuracy=0.781250\u001b[0m\n",
      "\u001b[34m[09/11/2023 21:31:03 INFO 140551053276992] Storing the best model with validation accuracy: 0.781250\u001b[0m\n",
      "\u001b[34m[09/11/2023 21:31:03 INFO 140551053276992] Saved checkpoint to \"/opt/ml/model/image-classification-0004.params\"\u001b[0m\n",
      "\u001b[34m[09/11/2023 21:31:06 INFO 140551053276992] Epoch[4] Batch [20]#011Speed: 193.351 samples/sec#011accuracy=0.799107\u001b[0m\n",
      "\u001b[34m[09/11/2023 21:31:08 INFO 140551053276992] Epoch[4] Train-accuracy=0.783266\u001b[0m\n",
      "\u001b[34m[09/11/2023 21:31:08 INFO 140551053276992] Epoch[4] Time cost=4.938\u001b[0m\n",
      "\u001b[34m[09/11/2023 21:31:09 INFO 140551053276992] Epoch[4] Validation-accuracy=0.817708\u001b[0m\n",
      "\u001b[34m[09/11/2023 21:31:09 INFO 140551053276992] Storing the best model with validation accuracy: 0.817708\u001b[0m\n",
      "\u001b[34m[09/11/2023 21:31:09 INFO 140551053276992] Saved checkpoint to \"/opt/ml/model/image-classification-0005.params\"\u001b[0m\n",
      "\u001b[34m[09/11/2023 21:31:13 INFO 140551053276992] Epoch[5] Batch [20]#011Speed: 194.636 samples/sec#011accuracy=0.806548\u001b[0m\n",
      "\u001b[34m[09/11/2023 21:31:14 INFO 140551053276992] Epoch[5] Train-accuracy=0.802419\u001b[0m\n",
      "\u001b[34m[09/11/2023 21:31:14 INFO 140551053276992] Epoch[5] Time cost=4.906\u001b[0m\n",
      "\u001b[34m[09/11/2023 21:31:15 INFO 140551053276992] Epoch[5] Validation-accuracy=0.791667\u001b[0m\n",
      "\u001b[34m[09/11/2023 21:31:18 INFO 140551053276992] Epoch[6] Batch [20]#011Speed: 194.777 samples/sec#011accuracy=0.809524\u001b[0m\n",
      "\u001b[34m[09/11/2023 21:31:20 INFO 140551053276992] Epoch[6] Train-accuracy=0.808468\u001b[0m\n",
      "\u001b[34m[09/11/2023 21:31:20 INFO 140551053276992] Epoch[6] Time cost=4.905\u001b[0m\n",
      "\u001b[34m[09/11/2023 21:31:21 INFO 140551053276992] Epoch[6] Validation-accuracy=0.796875\u001b[0m\n",
      "\u001b[34m[09/11/2023 21:31:24 INFO 140551053276992] Epoch[7] Batch [20]#011Speed: 195.556 samples/sec#011accuracy=0.806548\u001b[0m\n",
      "\u001b[34m[09/11/2023 21:31:26 INFO 140551053276992] Epoch[7] Train-accuracy=0.810484\u001b[0m\n",
      "\u001b[34m[09/11/2023 21:31:26 INFO 140551053276992] Epoch[7] Time cost=4.881\u001b[0m\n",
      "\u001b[34m[09/11/2023 21:31:26 INFO 140551053276992] Epoch[7] Validation-accuracy=0.808036\u001b[0m\n",
      "\u001b[34m[09/11/2023 21:31:30 INFO 140551053276992] Epoch[8] Batch [20]#011Speed: 193.166 samples/sec#011accuracy=0.816964\u001b[0m\n",
      "\u001b[34m[09/11/2023 21:31:32 INFO 140551053276992] Epoch[8] Train-accuracy=0.822581\u001b[0m\n",
      "\u001b[34m[09/11/2023 21:31:32 INFO 140551053276992] Epoch[8] Time cost=4.947\u001b[0m\n",
      "\u001b[34m[09/11/2023 21:31:32 INFO 140551053276992] Epoch[8] Validation-accuracy=0.822917\u001b[0m\n",
      "\u001b[34m[09/11/2023 21:31:33 INFO 140551053276992] Storing the best model with validation accuracy: 0.822917\u001b[0m\n",
      "\u001b[34m[09/11/2023 21:31:33 INFO 140551053276992] Saved checkpoint to \"/opt/ml/model/image-classification-0009.params\"\u001b[0m\n",
      "\u001b[34m[09/11/2023 21:31:36 INFO 140551053276992] Epoch[9] Batch [20]#011Speed: 194.846 samples/sec#011accuracy=0.833333\u001b[0m\n",
      "\u001b[34m[09/11/2023 21:31:38 INFO 140551053276992] Epoch[9] Train-accuracy=0.838710\u001b[0m\n",
      "\u001b[34m[09/11/2023 21:31:38 INFO 140551053276992] Epoch[9] Time cost=4.886\u001b[0m\n",
      "\u001b[34m[09/11/2023 21:31:38 INFO 140551053276992] Epoch[9] Validation-accuracy=0.838542\u001b[0m\n",
      "\u001b[34m[09/11/2023 21:31:39 INFO 140551053276992] Storing the best model with validation accuracy: 0.838542\u001b[0m\n",
      "\u001b[34m[09/11/2023 21:31:39 INFO 140551053276992] Saved checkpoint to \"/opt/ml/model/image-classification-0010.params\"\u001b[0m\n",
      "\u001b[34m[09/11/2023 21:31:42 INFO 140551053276992] Epoch[10] Batch [20]#011Speed: 193.534 samples/sec#011accuracy=0.846726\u001b[0m\n",
      "\u001b[34m[09/11/2023 21:31:44 INFO 140551053276992] Epoch[10] Train-accuracy=0.848790\u001b[0m\n",
      "\u001b[34m[09/11/2023 21:31:44 INFO 140551053276992] Epoch[10] Time cost=4.914\u001b[0m\n",
      "\u001b[34m[09/11/2023 21:31:44 INFO 140551053276992] Epoch[10] Validation-accuracy=0.786458\u001b[0m\n",
      "\u001b[34m[09/11/2023 21:31:48 INFO 140551053276992] Epoch[11] Batch [20]#011Speed: 195.095 samples/sec#011accuracy=0.864583\u001b[0m\n",
      "\u001b[34m[09/11/2023 21:31:50 INFO 140551053276992] Epoch[11] Train-accuracy=0.858871\u001b[0m\n",
      "\u001b[34m[09/11/2023 21:31:50 INFO 140551053276992] Epoch[11] Time cost=4.880\u001b[0m\n",
      "\u001b[34m[09/11/2023 21:31:50 INFO 140551053276992] Epoch[11] Validation-accuracy=0.825893\u001b[0m\n",
      "\u001b[34m[09/11/2023 21:31:54 INFO 140551053276992] Epoch[12] Batch [20]#011Speed: 194.756 samples/sec#011accuracy=0.886905\u001b[0m\n",
      "\u001b[34m[09/11/2023 21:31:56 INFO 140551053276992] Epoch[12] Train-accuracy=0.869960\u001b[0m\n",
      "\u001b[34m[09/11/2023 21:31:56 INFO 140551053276992] Epoch[12] Time cost=4.889\u001b[0m\n",
      "\u001b[34m[09/11/2023 21:31:56 INFO 140551053276992] Epoch[12] Validation-accuracy=0.791667\u001b[0m\n",
      "\u001b[34m[09/11/2023 21:32:00 INFO 140551053276992] Epoch[13] Batch [20]#011Speed: 192.986 samples/sec#011accuracy=0.864583\u001b[0m\n",
      "\u001b[34m[09/11/2023 21:32:02 INFO 140551053276992] Epoch[13] Train-accuracy=0.871976\u001b[0m\n",
      "\u001b[34m[09/11/2023 21:32:02 INFO 140551053276992] Epoch[13] Time cost=4.963\u001b[0m\n",
      "\u001b[34m[09/11/2023 21:32:02 INFO 140551053276992] Epoch[13] Validation-accuracy=0.843750\u001b[0m\n",
      "\u001b[34m[09/11/2023 21:32:03 INFO 140551053276992] Storing the best model with validation accuracy: 0.843750\u001b[0m\n",
      "\u001b[34m[09/11/2023 21:32:03 INFO 140551053276992] Saved checkpoint to \"/opt/ml/model/image-classification-0014.params\"\u001b[0m\n",
      "\u001b[34m[09/11/2023 21:32:06 INFO 140551053276992] Epoch[14] Batch [20]#011Speed: 195.085 samples/sec#011accuracy=0.912202\u001b[0m\n",
      "\u001b[34m[09/11/2023 21:32:08 INFO 140551053276992] Epoch[14] Train-accuracy=0.887097\u001b[0m\n",
      "\u001b[34m[09/11/2023 21:32:08 INFO 140551053276992] Epoch[14] Time cost=4.911\u001b[0m\n",
      "\u001b[34m[09/11/2023 21:32:08 INFO 140551053276992] Epoch[14] Validation-accuracy=0.781250\u001b[0m\n",
      "\u001b[34m[09/11/2023 21:32:12 INFO 140551053276992] Epoch[15] Batch [20]#011Speed: 193.999 samples/sec#011accuracy=0.883929\u001b[0m\n",
      "\u001b[34m[09/11/2023 21:32:14 INFO 140551053276992] Epoch[15] Train-accuracy=0.886089\u001b[0m\n",
      "\u001b[34m[09/11/2023 21:32:14 INFO 140551053276992] Epoch[15] Time cost=4.927\u001b[0m\n",
      "\u001b[34m[09/11/2023 21:32:14 INFO 140551053276992] Epoch[15] Validation-accuracy=0.821429\u001b[0m\n",
      "\u001b[34m[09/11/2023 21:32:18 INFO 140551053276992] Epoch[16] Batch [20]#011Speed: 194.801 samples/sec#011accuracy=0.934524\u001b[0m\n",
      "\u001b[34m[09/11/2023 21:32:20 INFO 140551053276992] Epoch[16] Train-accuracy=0.921371\u001b[0m\n",
      "\u001b[34m[09/11/2023 21:32:20 INFO 140551053276992] Epoch[16] Time cost=4.901\u001b[0m\n",
      "\u001b[34m[09/11/2023 21:32:20 INFO 140551053276992] Epoch[16] Validation-accuracy=0.822917\u001b[0m\n",
      "\u001b[34m[09/11/2023 21:32:24 INFO 140551053276992] Epoch[17] Batch [20]#011Speed: 196.148 samples/sec#011accuracy=0.934524\u001b[0m\n",
      "\u001b[34m[09/11/2023 21:32:25 INFO 140551053276992] Epoch[17] Train-accuracy=0.930444\u001b[0m\n",
      "\u001b[34m[09/11/2023 21:32:25 INFO 140551053276992] Epoch[17] Time cost=4.871\u001b[0m\n",
      "\u001b[34m[09/11/2023 21:32:26 INFO 140551053276992] Epoch[17] Validation-accuracy=0.822917\u001b[0m\n",
      "\u001b[34m[09/11/2023 21:32:30 INFO 140551053276992] Epoch[18] Batch [20]#011Speed: 194.267 samples/sec#011accuracy=0.898810\u001b[0m\n",
      "\u001b[34m[09/11/2023 21:32:31 INFO 140551053276992] Epoch[18] Train-accuracy=0.906250\u001b[0m\n",
      "\u001b[34m[09/11/2023 21:32:31 INFO 140551053276992] Epoch[18] Time cost=4.905\u001b[0m\n",
      "\u001b[34m[09/11/2023 21:32:32 INFO 140551053276992] Epoch[18] Validation-accuracy=0.828125\u001b[0m\n",
      "\u001b[34m[09/11/2023 21:32:36 INFO 140551053276992] Epoch[19] Batch [20]#011Speed: 194.428 samples/sec#011accuracy=0.970238\u001b[0m\n",
      "\u001b[34m[09/11/2023 21:32:37 INFO 140551053276992] Epoch[19] Train-accuracy=0.958669\u001b[0m\n",
      "\u001b[34m[09/11/2023 21:32:37 INFO 140551053276992] Epoch[19] Time cost=4.915\u001b[0m\n",
      "\u001b[34m[09/11/2023 21:32:38 INFO 140551053276992] Epoch[19] Validation-accuracy=0.825893\u001b[0m\n",
      "\u001b[34m[09/11/2023 21:32:41 INFO 140551053276992] Epoch[20] Batch [20]#011Speed: 193.255 samples/sec#011accuracy=0.959821\u001b[0m\n",
      "\u001b[34m[09/11/2023 21:32:43 INFO 140551053276992] Epoch[20] Train-accuracy=0.948589\u001b[0m\n",
      "\u001b[34m[09/11/2023 21:32:43 INFO 140551053276992] Epoch[20] Time cost=4.918\u001b[0m\n",
      "\u001b[34m[09/11/2023 21:32:44 INFO 140551053276992] Epoch[20] Validation-accuracy=0.843750\u001b[0m\n",
      "\u001b[34m[09/11/2023 21:32:47 INFO 140551053276992] Epoch[21] Batch [20]#011Speed: 194.623 samples/sec#011accuracy=0.950893\u001b[0m\n",
      "\u001b[34m[09/11/2023 21:32:49 INFO 140551053276992] Epoch[21] Train-accuracy=0.945565\u001b[0m\n",
      "\u001b[34m[09/11/2023 21:32:49 INFO 140551053276992] Epoch[21] Time cost=4.877\u001b[0m\n",
      "\u001b[34m[09/11/2023 21:32:49 INFO 140551053276992] Epoch[21] Validation-accuracy=0.817708\u001b[0m\n",
      "\u001b[34m[09/11/2023 21:32:53 INFO 140551053276992] Epoch[22] Batch [20]#011Speed: 193.175 samples/sec#011accuracy=0.964286\u001b[0m\n",
      "\u001b[34m[09/11/2023 21:32:55 INFO 140551053276992] Epoch[22] Train-accuracy=0.958669\u001b[0m\n",
      "\u001b[34m[09/11/2023 21:32:55 INFO 140551053276992] Epoch[22] Time cost=4.925\u001b[0m\n",
      "\u001b[34m[09/11/2023 21:32:55 INFO 140551053276992] Epoch[22] Validation-accuracy=0.843750\u001b[0m\n",
      "\u001b[34m[09/11/2023 21:32:59 INFO 140551053276992] Epoch[23] Batch [20]#011Speed: 195.736 samples/sec#011accuracy=0.953869\u001b[0m\n",
      "\u001b[34m[09/11/2023 21:33:01 INFO 140551053276992] Epoch[23] Train-accuracy=0.946573\u001b[0m\n",
      "\u001b[34m[09/11/2023 21:33:01 INFO 140551053276992] Epoch[23] Time cost=4.885\u001b[0m\n",
      "\u001b[34m[09/11/2023 21:33:01 INFO 140551053276992] Epoch[23] Validation-accuracy=0.816964\u001b[0m\n",
      "\u001b[34m[09/11/2023 21:33:05 INFO 140551053276992] Epoch[24] Batch [20]#011Speed: 189.930 samples/sec#011accuracy=0.961310\u001b[0m\n",
      "\u001b[34m[09/11/2023 21:33:07 INFO 140551053276992] Epoch[24] Train-accuracy=0.970766\u001b[0m\n",
      "\u001b[34m[09/11/2023 21:33:07 INFO 140551053276992] Epoch[24] Time cost=4.980\u001b[0m\n",
      "\u001b[34m[09/11/2023 21:33:07 INFO 140551053276992] Epoch[24] Validation-accuracy=0.848958\u001b[0m\n",
      "\u001b[34m[09/11/2023 21:33:07 INFO 140551053276992] Storing the best model with validation accuracy: 0.848958\u001b[0m\n",
      "\u001b[34m[09/11/2023 21:33:08 INFO 140551053276992] Saved checkpoint to \"/opt/ml/model/image-classification-0025.params\"\u001b[0m\n",
      "\u001b[34m[09/11/2023 21:33:11 INFO 140551053276992] Epoch[25] Batch [20]#011Speed: 194.417 samples/sec#011accuracy=0.992560\u001b[0m\n",
      "\u001b[34m[09/11/2023 21:33:13 INFO 140551053276992] Epoch[25] Train-accuracy=0.986895\u001b[0m\n",
      "\u001b[34m[09/11/2023 21:33:13 INFO 140551053276992] Epoch[25] Time cost=4.891\u001b[0m\n",
      "\u001b[34m[09/11/2023 21:33:13 INFO 140551053276992] Epoch[25] Validation-accuracy=0.770833\u001b[0m\n",
      "\u001b[34m[09/11/2023 21:33:17 INFO 140551053276992] Epoch[26] Batch [20]#011Speed: 194.483 samples/sec#011accuracy=0.934524\u001b[0m\n",
      "\u001b[34m[09/11/2023 21:33:19 INFO 140551053276992] Epoch[26] Train-accuracy=0.939516\u001b[0m\n",
      "\u001b[34m[09/11/2023 21:33:19 INFO 140551053276992] Epoch[26] Time cost=4.902\u001b[0m\n",
      "\u001b[34m[09/11/2023 21:33:19 INFO 140551053276992] Epoch[26] Validation-accuracy=0.838542\u001b[0m\n",
      "\u001b[34m[09/11/2023 21:33:23 INFO 140551053276992] Epoch[27] Batch [20]#011Speed: 194.839 samples/sec#011accuracy=0.986607\u001b[0m\n",
      "\u001b[34m[09/11/2023 21:33:24 INFO 140551053276992] Epoch[27] Train-accuracy=0.983871\u001b[0m\n",
      "\u001b[34m[09/11/2023 21:33:24 INFO 140551053276992] Epoch[27] Time cost=4.898\u001b[0m\n",
      "\u001b[34m[09/11/2023 21:33:25 INFO 140551053276992] Epoch[27] Validation-accuracy=0.861607\u001b[0m\n",
      "\u001b[34m[09/11/2023 21:33:25 INFO 140551053276992] Storing the best model with validation accuracy: 0.861607\u001b[0m\n",
      "\u001b[34m[09/11/2023 21:33:26 INFO 140551053276992] Saved checkpoint to \"/opt/ml/model/image-classification-0028.params\"\u001b[0m\n",
      "\u001b[34m[09/11/2023 21:33:29 INFO 140551053276992] Epoch[28] Batch [20]#011Speed: 194.808 samples/sec#011accuracy=0.989583\u001b[0m\n",
      "\u001b[34m[09/11/2023 21:33:31 INFO 140551053276992] Epoch[28] Train-accuracy=0.987903\u001b[0m\n",
      "\u001b[34m[09/11/2023 21:33:31 INFO 140551053276992] Epoch[28] Time cost=4.901\u001b[0m\n",
      "\u001b[34m[09/11/2023 21:33:31 INFO 140551053276992] Epoch[28] Validation-accuracy=0.848958\u001b[0m\n",
      "\n",
      "2023-09-11 21:33:41 Uploading - Uploading generated training model\u001b[34m[09/11/2023 21:33:35 INFO 140551053276992] Epoch[29] Batch [20]#011Speed: 194.706 samples/sec#011accuracy=0.995536\u001b[0m\n",
      "\u001b[34m[09/11/2023 21:33:36 INFO 140551053276992] Epoch[29] Train-accuracy=0.992944\u001b[0m\n",
      "\u001b[34m[09/11/2023 21:33:36 INFO 140551053276992] Epoch[29] Time cost=4.907\u001b[0m\n",
      "\u001b[34m[09/11/2023 21:33:37 INFO 140551053276992] Epoch[29] Validation-accuracy=0.859375\u001b[0m\n",
      "\n",
      "2023-09-11 21:34:07 Completed - Training job completed\n",
      "Training seconds: 393\n",
      "Billable seconds: 393\n"
     ]
    }
   ],
   "source": [
    "## TODO: train your model\n",
    "img_classifier_model.fit(model_inputs)"
   ]
  },
  {
   "cell_type": "code",
   "execution_count": 76,
   "metadata": {
    "tags": []
   },
   "outputs": [
    {
     "name": "stdout",
     "output_type": "stream",
     "text": [
      "Best model artifacts S3 URI: s3://scone-unlimited-dataset/models/image_model/image-classification-2023-09-11-21-25-44-680/output/model.tar.gz\n"
     ]
    }
   ],
   "source": [
    "import boto3\n",
    "\n",
    "# Create a SageMaker client\n",
    "sagemaker_client = boto3.client('sagemaker')\n",
    "\n",
    "# Specify the name of your training job\n",
    "training_job_name = 'image-classification-2023-09-11-21-25-44-680'\n",
    "\n",
    "# Call the describe_training_job method to get information about the training job\n",
    "response = sagemaker_client.describe_training_job(TrainingJobName=training_job_name)\n",
    "\n",
    "# Get the S3 location of the best model artifacts\n",
    "model_artifacts_s3_uri = response['ModelArtifacts']['S3ModelArtifacts']\n",
    "\n",
    "print(\"Best model artifacts S3 URI:\", model_artifacts_s3_uri)"
   ]
  },
  {
   "cell_type": "code",
   "execution_count": 83,
   "metadata": {
    "tags": []
   },
   "outputs": [],
   "source": [
    "import sagemaker\n",
    "#Use pretrained model , no need to train again\n",
    "img_classifier_model=sagemaker.model.Model(\n",
    "    image_uri = Container,\n",
    "    model_data = 's3://scone-unlimited-dataset/models/image_model/image-classification-2023-09-11-21-25-44-680/output/model.tar.gz',\n",
    "    role = role,\n",
    "    sagemaker_session=session\n",
    "    \n",
    ")"
   ]
  },
  {
   "cell_type": "markdown",
   "metadata": {},
   "source": [
    "If all goes well, you'll end up with a model topping out above `.8` validation accuracy. With only 1000 training samples in the CIFAR dataset, that's pretty good. We could definitely pursue data augmentation & gathering more samples to help us improve further, but for now let's proceed to deploy our model.\n",
    "\n",
    "### Getting ready to deploy\n",
    "\n",
    "To begin with, let's configure Model Monitor to track our deployment. We'll define a `DataCaptureConfig` below:"
   ]
  },
  {
   "cell_type": "code",
   "execution_count": 84,
   "metadata": {
    "tags": []
   },
   "outputs": [
    {
     "name": "stdout",
     "output_type": "stream",
     "text": [
      "sagemaker.config INFO - Not applying SDK defaults from location: /etc/xdg/sagemaker/config.yaml\n",
      "sagemaker.config INFO - Not applying SDK defaults from location: /root/.config/sagemaker/config.yaml\n"
     ]
    }
   ],
   "source": [
    "from sagemaker.model_monitor import DataCaptureConfig\n",
    "\n",
    "data_capture_config = DataCaptureConfig(\n",
    "    ## TODO: Set config options\n",
    "    enable_capture=True,\n",
    "    sampling_percentage=100,\n",
    "    destination_s3_uri = f\"s3://{bucket_Name}/data_capture_PROJECT\"\n",
    ")\n"
   ]
  },
  {
   "cell_type": "markdown",
   "metadata": {},
   "source": [
    "Note the `destination_s3_uri` parameter: At the end of the project, we can explore the `data_capture` directory in S3 to find crucial data about the inputs and outputs Model Monitor has observed on our model endpoint over time.\n",
    "\n",
    "With that done, deploy your model on a single `ml.m5.xlarge` instance with the data capture config attached:"
   ]
  },
  {
   "cell_type": "code",
   "execution_count": 85,
   "metadata": {
    "tags": []
   },
   "outputs": [
    {
     "name": "stdout",
     "output_type": "stream",
     "text": [
      "--------!"
     ]
    }
   ],
   "source": [
    "deployment = img_classifier_model.deploy(\n",
    "    endpoint_name='deploy-scone-unlimited',\n",
    "    ## TODO: fill in deployment options\n",
    "    initial_instance_count=1,\n",
    "    instance_type='ml.m5.xlarge',\n",
    "    data_capture_config = data_capture_config\n",
    "    )\n",
    "\n",
    "#endpoint = deployment.endpoint_name\n",
    "#print(endpoint)"
   ]
  },
  {
   "cell_type": "code",
   "execution_count": 86,
   "metadata": {
    "tags": []
   },
   "outputs": [
    {
     "name": "stdout",
     "output_type": "stream",
     "text": [
      "deploy-scone-unlimited\n"
     ]
    }
   ],
   "source": [
    "#From aws console\n",
    "endpoint = img_classifier_model.endpoint_name\n",
    "print(endpoint)"
   ]
  },
  {
   "cell_type": "markdown",
   "metadata": {},
   "source": [
    "Note the endpoint name for later as well.\n",
    "\n",
    "Next, instantiate a Predictor:"
   ]
  },
  {
   "cell_type": "code",
   "execution_count": 87,
   "metadata": {
    "tags": []
   },
   "outputs": [],
   "source": [
    "predictor = sagemaker.predictor.Predictor(endpoint_name=endpoint, sagemaker_session=session)"
   ]
  },
  {
   "cell_type": "markdown",
   "metadata": {},
   "source": [
    "In the code snippet below we are going to prepare one of your saved images for prediction. Use the predictor to process the `payload`."
   ]
  },
  {
   "cell_type": "code",
   "execution_count": 94,
   "metadata": {
    "tags": []
   },
   "outputs": [],
   "source": [
    "from sagemaker.serializers import IdentitySerializer\n",
    "import base64\n",
    "\n",
    "predictor.serializer = IdentitySerializer(\"image/png\")\n",
    "with open(\"./test/bicycle_s_000479.png\", \"rb\") as f:\n",
    "    payload = f.read()\n",
    "    #print(payload)\n"
   ]
  },
  {
   "cell_type": "code",
   "execution_count": 95,
   "metadata": {
    "tags": []
   },
   "outputs": [
    {
     "name": "stdout",
     "output_type": "stream",
     "text": [
      "[0.014431477524340153, 0.9855684638023376]\n"
     ]
    }
   ],
   "source": [
    "inference = predictor.predict(payload)## TODO: Process the payload with your predictor\n",
    "print(inference.decode('utf-8'))"
   ]
  },
  {
   "cell_type": "markdown",
   "metadata": {},
   "source": [
    "Your `inference` object is an array of two values, the predicted probability value for each of your classes (bicycle and motorcycle respectively.) So, for example, a value of `b'[0.91, 0.09]'` indicates the probability of being a bike is 91% and being a motorcycle is 9%."
   ]
  },
  {
   "cell_type": "code",
   "execution_count": null,
   "metadata": {
    "tags": []
   },
   "outputs": [],
   "source": [
    "# Delete the endpoint\n",
    "session.delete_endpoint(endpoint)\n",
    "\n",
    "print(f\"Endpoint '{endpoint}' has been deleted.\")"
   ]
  },
  {
   "cell_type": "markdown",
   "metadata": {},
   "source": [
    "### Draft Lambdas and Step Function Workflow\n",
    "\n",
    "Your operations team uses Step Functions to orchestrate serverless workflows. One of the nice things about Step Functions is that [workflows can call other workflows](https://docs.aws.amazon.com/step-functions/latest/dg/connect-stepfunctions.html), so the team can easily plug your workflow into the broader production architecture for Scones Unlimited.\n",
    "\n",
    "In this next stage you're going to write and deploy three Lambda functions, and then use the Step Functions visual editor to chain them together! Our functions are going to work with a simple data object:\n",
    "\n",
    "```python\n",
    "{\n",
    "    \"inferences\": [], # Output of predictor.predict\n",
    "    \"s3_key\": \"\", # Source data S3 key\n",
    "    \"s3_bucket\": \"\", # Source data S3 bucket\n",
    "    \"image_data\": \"\"  # base64 encoded string containing the image data\n",
    "}\n",
    "```\n",
    "\n",
    "A good test object that you can use for Lambda tests and Step Function executions, throughout the next section, might look like this:\n",
    "\n",
    "```python\n",
    "{\n",
    "  \"image_data\": \"\",\n",
    "  \"s3_bucket\": MY_BUCKET_NAME, # Fill in with your bucket\n",
    "  \"s3_key\": \"test/bicycle_s_000513.png\"\n",
    "}\n",
    "```\n",
    "\n",
    "Using these fields, your functions can read and write the necessary data to execute your workflow. Let's start with the first function. Your first Lambda function will copy an object from S3, base64 encode it, and then return it to the step function as `image_data` in an event.\n",
    "\n",
    "Go to the Lambda dashboard and create a new Lambda function with a descriptive name like \"serializeImageData\" and select thr 'Python 3.8' runtime. Add the same permissions as the SageMaker role you created earlier. (Reminder: you do this in the Configuration tab under \"Permissions\"). Once you're ready, use the starter code below to craft your Lambda handler:\n",
    "\n",
    "```python\n",
    "import json\n",
    "import boto3\n",
    "import base64\n",
    "\n",
    "s3 = boto3.client('s3')\n",
    "\n",
    "def lambda_handler(event, context):\n",
    "    \"\"\"A function to serialize target data from S3\"\"\"\n",
    "    \n",
    "    # Get the s3 address from the Step Function event input\n",
    "    key = ## TODO: fill in\n",
    "    bucket = ## TODO: fill in\n",
    "    \n",
    "    # Download the data from s3 to /tmp/image.png\n",
    "    ## TODO: fill in\n",
    "    \n",
    "    # We read the data from a file\n",
    "    with open(\"/tmp/image.png\", \"rb\") as f:\n",
    "        image_data = base64.b64encode(f.read())\n",
    "\n",
    "    # Pass the data back to the Step Function\n",
    "    print(\"Event:\", event.keys())\n",
    "    return {\n",
    "        'statusCode': 200,\n",
    "        'body': {\n",
    "            \"image_data\": image_data,\n",
    "            \"s3_bucket\": bucket,\n",
    "            \"s3_key\": key,\n",
    "            \"inferences\": []\n",
    "        }\n",
    "    }\n",
    "```\n",
    "\n",
    "The next function is responsible for the classification part - we're going to take the image output from the previous function, decode it, and then pass inferences back to the the Step Function.\n",
    "\n",
    "Because this Lambda will have runtime dependencies (i.e. the SageMaker SDK) you'll need to package them in your function. *Key reading:* https://docs.aws.amazon.com/lambda/latest/dg/python-package-create.html#python-package-create-with-dependency\n",
    "\n",
    "Create a new Lambda function with the same rights and a descriptive name, then fill in the starter code below for your classifier Lambda.\n",
    "\n",
    "```python\n",
    "import json\n",
    "import sagemaker\n",
    "import base64\n",
    "from sagemaker.serializers import IdentitySerializer\n",
    "\n",
    "# Fill this in with the name of your deployed model\n",
    "ENDPOINT = ## TODO: fill in\n",
    "\n",
    "def lambda_handler(event, context):\n",
    "\n",
    "    # Decode the image data\n",
    "    image = base64.b64decode(## TODO: fill in)\n",
    "\n",
    "    # Instantiate a Predictor\n",
    "    predictor = ## TODO: fill in\n",
    "\n",
    "    # For this model the IdentitySerializer needs to be \"image/png\"\n",
    "    predictor.serializer = IdentitySerializer(\"image/png\")\n",
    "    \n",
    "    # Make a prediction:\n",
    "    inferences = ## TODO: fill in\n",
    "    \n",
    "    # We return the data back to the Step Function    \n",
    "    event[\"inferences\"] = inferences.decode('utf-8')\n",
    "    return {\n",
    "        'statusCode': 200,\n",
    "        'body': json.dumps(event)\n",
    "    }\n",
    "```\n",
    "\n",
    "Finally, we need to filter low-confidence inferences. Define a threshold between 1.00 and 0.000 for your model: what is reasonble for you? If the model predicts at `.70` for it's highest confidence label, do we want to pass that inference along to downstream systems? Make one last Lambda function and tee up the same permissions:\n",
    "\n",
    "```python\n",
    "import json\n",
    "\n",
    "\n",
    "THRESHOLD = .93\n",
    "\n",
    "\n",
    "def lambda_handler(event, context):\n",
    "    \n",
    "    # Grab the inferences from the event\n",
    "    inferences = ## TODO: fill in\n",
    "    \n",
    "    # Check if any values in our inferences are above THRESHOLD\n",
    "    meets_threshold = ## TODO: fill in\n",
    "    \n",
    "    # If our threshold is met, pass our data back out of the\n",
    "    # Step Function, else, end the Step Function with an error\n",
    "    if meets_threshold:\n",
    "        pass\n",
    "    else:\n",
    "        raise(\"THRESHOLD_CONFIDENCE_NOT_MET\")\n",
    "\n",
    "    return {\n",
    "        'statusCode': 200,\n",
    "        'body': json.dumps(event)\n",
    "    }\n",
    "```\n",
    "Once you have tested the lambda functions, save the code for each lambda function in a python script called 'lambda.py'.\n",
    "\n",
    "With your lambdas in place, you can use the Step Functions visual editor to construct a workflow that chains them together. In the Step Functions console you'll have the option to author a Standard step function *Visually*.\n",
    "\n",
    "When the visual editor opens, you'll have many options to add transitions in your workflow. We're going to keep it simple and have just one: to invoke Lambda functions. Add three of them chained together. For each one, you'll be able to select the Lambda functions you just created in the proper order, filter inputs and outputs, and give them descriptive names.\n",
    "\n",
    "Make sure that you:\n",
    "\n",
    "1. Are properly filtering the inputs and outputs of your invokations (e.g. `$.body`)\n",
    "2. Take care to remove the error handling from the last function - it's supposed to \"fail loudly\" for your operations colleagues!\n",
    "\n",
    "Take a screenshot of your working step function in action and export the step function as JSON for your submission package."
   ]
  },
  {
   "cell_type": "markdown",
   "metadata": {},
   "source": [
    "\n",
    "Great! Now you can use the files in `./test` as test files for our workflow. Depending on our threshold, our workflow should reliably pass predictions about images from `./test` on to downstream systems, while erroring out for inferences below our confidence threshold!\n",
    "\n",
    "### Testing and Evaluation\n",
    "\n",
    "Do several step function invokations using data from the `./test` folder. This process should give you confidence that the workflow both *succeeds* AND *fails* as expected. In addition, SageMaker Model Monitor will generate recordings of your data and inferences which we can visualize.\n",
    "\n",
    "Here's a function that can help you generate test inputs for your invokations:"
   ]
  },
  {
   "cell_type": "code",
   "execution_count": 33,
   "metadata": {
    "tags": []
   },
   "outputs": [
    {
     "data": {
      "text/plain": [
       "'{\"image_data\": \"\", \"s3_bucket\": \"scone-unlimited-dataset\", \"s3_key\": \"ProjectUnit2/test/velocipede_s_000863.png\"}'"
      ]
     },
     "execution_count": 33,
     "metadata": {},
     "output_type": "execute_result"
    }
   ],
   "source": [
    "import random\n",
    "import boto3\n",
    "import json\n",
    "\n",
    "\n",
    "def generate_test_case():\n",
    "    # Setup s3 in boto3\n",
    "    s3 = boto3.resource('s3')\n",
    "    \n",
    "    # Randomly pick from sfn or test folders in our bucket\n",
    "    objects = s3.Bucket(bucket_Name).objects.filter(Prefix = \"ProjectUnit2/test\")\n",
    "    \n",
    "    #for x in objects:\n",
    "        #print(x.key)\n",
    "    \n",
    "    # Grab any random object key from that folder!\n",
    "    obj = random.choice([x.key for x in objects])\n",
    "    \n",
    "    return json.dumps({\n",
    "        \"image_data\": \"\",\n",
    "        \"s3_bucket\": bucket_Name,\n",
    "        \"s3_key\": obj\n",
    "    })\n",
    "generate_test_case()"
   ]
  },
  {
   "cell_type": "markdown",
   "metadata": {},
   "source": [
    "In the Step Function dashboard for your new function, you can create new executions and copy in the generated test cases. Do several executions so that you can generate data you can evaluate and visualize.\n",
    "\n",
    "Once you've done several executions, let's visualize the record of our inferences. Pull in the JSONLines data from your inferences like so:"
   ]
  },
  {
   "cell_type": "code",
   "execution_count": 96,
   "metadata": {
    "tags": []
   },
   "outputs": [
    {
     "name": "stdout",
     "output_type": "stream",
     "text": [
      "sagemaker.config INFO - Not applying SDK defaults from location: /etc/xdg/sagemaker/config.yaml\n",
      "sagemaker.config INFO - Not applying SDK defaults from location: /root/.config/sagemaker/config.yaml\n"
     ]
    },
    {
     "data": {
      "text/plain": [
       "['captured_data/52-20-567-ae8eada8-ae91-4585-b33e-0c0c15bda230.jsonl',\n",
       " 'captured_data/54-30-947-9cd73ba2-bfd7-4659-b049-2147b3f7f9cd.jsonl']"
      ]
     },
     "execution_count": 96,
     "metadata": {},
     "output_type": "execute_result"
    }
   ],
   "source": [
    "from sagemaker.s3 import S3Downloader\n",
    "\n",
    "# In S3 your data will be saved to a datetime-aware path\n",
    "# Find a path related to a datetime you're interested in\n",
    "data_path = \"s3://scone-unlimited-dataset/data_capture_PROJECT/deploy-scone-unlimited/AllTraffic/2023/09/23/19/\"\n",
    "\n",
    "## TODO: fill in the path to your captured data\n",
    "S3Downloader.download(data_path, \"captured_data\")\n",
    "\n",
    "# Feel free to repeat this multiple times and pull in more data"
   ]
  },
  {
   "cell_type": "markdown",
   "metadata": {},
   "source": [
    "The data are in JSONLines format, where multiple valid JSON objects are stacked on top of eachother in a single `jsonl` file. We'll import an open-source library, `jsonlines` that was purpose built for parsing this format."
   ]
  },
  {
   "cell_type": "code",
   "execution_count": 97,
   "metadata": {
    "tags": []
   },
   "outputs": [
    {
     "name": "stdout",
     "output_type": "stream",
     "text": [
      "Requirement already satisfied: jsonlines in /opt/conda/lib/python3.10/site-packages (4.0.0)\n",
      "Requirement already satisfied: attrs>=19.2.0 in /opt/conda/lib/python3.10/site-packages (from jsonlines) (23.1.0)\n",
      "\u001b[33mWARNING: Running pip as the 'root' user can result in broken permissions and conflicting behaviour with the system package manager. It is recommended to use a virtual environment instead: https://pip.pypa.io/warnings/venv\u001b[0m\u001b[33m\n",
      "\u001b[0m"
     ]
    }
   ],
   "source": [
    "!pip install jsonlines\n",
    "import jsonlines"
   ]
  },
  {
   "cell_type": "markdown",
   "metadata": {},
   "source": [
    "Now we can extract the data from each of the source files:"
   ]
  },
  {
   "cell_type": "code",
   "execution_count": 98,
   "metadata": {
    "tags": []
   },
   "outputs": [],
   "source": [
    "import os\n",
    "\n",
    "# List the file names we downloaded\n",
    "file_handles = os.listdir(\"./captured_data\")\n",
    "\n",
    "# Dump all the data into an array\n",
    "json_data = []\n",
    "for jsonl in file_handles:\n",
    "    with jsonlines.open(f\"./captured_data/{jsonl}\") as f:\n",
    "        json_data.append(f.read())"
   ]
  },
  {
   "cell_type": "code",
   "execution_count": 111,
   "metadata": {
    "tags": []
   },
   "outputs": [
    {
     "data": {
      "text/plain": [
       "'[0.014431477524340153, 0.9855684638023376]'"
      ]
     },
     "execution_count": 111,
     "metadata": {},
     "output_type": "execute_result"
    }
   ],
   "source": [
    "json_data[1]['captureData']['endpointOutput']['data']\n",
    "#dict_keys(['captureData', 'eventMetadata', 'eventVersion'])\n"
   ]
  },
  {
   "cell_type": "markdown",
   "metadata": {},
   "source": [
    "The data should now be a list of dictionaries, with significant nesting. We'll give you an example of some code that grabs data out of the objects and visualizes it:"
   ]
  },
  {
   "cell_type": "code",
   "execution_count": 113,
   "metadata": {
    "tags": []
   },
   "outputs": [
    {
     "data": {
      "text/plain": [
       "([0.014431477524340153, 0.9855684638023376], '2023-09-23T19:54:30Z')"
      ]
     },
     "execution_count": 113,
     "metadata": {},
     "output_type": "execute_result"
    }
   ],
   "source": [
    "# Define how we'll get our data\n",
    "def simple_getter(obj):\n",
    "    inferences = obj[\"captureData\"][\"endpointOutput\"][\"data\"]\n",
    "    timestamp = obj[\"eventMetadata\"][\"inferenceTime\"]\n",
    "    return json.loads(inferences), timestamp\n",
    "simple_getter(json_data[1])"
   ]
  },
  {
   "cell_type": "markdown",
   "metadata": {
    "tags": []
   },
   "source": [
    "### Data Visualization"
   ]
  },
  {
   "cell_type": "markdown",
   "metadata": {},
   "source": [
    "Finally, here's an example of a visualization you can build with this data. In this last part, you will take some time and build your own - the captured data has the input images, the resulting inferences, and the timestamps."
   ]
  },
  {
   "cell_type": "code",
   "execution_count": 157,
   "metadata": {},
   "outputs": [
    {
     "data": {
      "image/png": "[encoded data removed]",
      "text/plain": [
       "<Figure size 432x288 with 1 Axes>"
      ]
     },
     "metadata": {},
     "output_type": "display_data"
    }
   ],
   "source": [
    "# Populate the data for the x and y axis\n",
    "x = []\n",
    "y = []\n",
    "for obj in json_data:\n",
    "    inference, timestamp = simple_getter(obj)\n",
    "    \n",
    "    y.append(max(inference))\n",
    "    x.append(timestamp)\n",
    "\n",
    "# Todo: here is an visualization example, take some time to build another visual that helps monitor the result\n",
    "# Plot the data\n",
    "plt.scatter(x, y, c=['r' if k<.94 else 'b' for k in y ])\n",
    "plt.axhline(y=0.94, color='g', linestyle='--')\n",
    "plt.ylim(bottom=.88)\n",
    "\n",
    "# Add labels\n",
    "plt.ylabel(\"Confidence\")\n",
    "plt.suptitle(\"Observed Recent Inferences\", size=14)\n",
    "plt.title(\"Pictured with confidence threshold for production use\", size=10)\n",
    "\n",
    "# Give it some pizzaz!\n",
    "plt.style.use(\"Solarize_Light2\")\n",
    "plt.gcf().autofmt_xdate()"
   ]
  },
  {
   "cell_type": "markdown",
   "metadata": {},
   "source": [
    "### Todo: build your own visualization\n"
   ]
  },
  {
   "cell_type": "code",
   "execution_count": 204,
   "metadata": {},
   "outputs": [],
   "source": [
    "import glob\n",
    "test_images=glob.glob('test/*.png')\n",
    "test_images_bytes=[]\n",
    "\n",
    "for img in test_images:\n",
    "    with open(img,'rb') as f:\n",
    "        test_images_bytes.append(f.read())\n",
    "        \n",
    "predictions_bytes=[predictor.predict(img) for img in test_images_bytes]\n",
    "#print(glob.glob('test/*.png'))"
   ]
  },
  {
   "cell_type": "code",
   "execution_count": 214,
   "metadata": {},
   "outputs": [],
   "source": [
    "predictions=[eval(p.decode('utf-8')) for p in predictions_bytes]\n",
    "#len(predictions)  #200"
   ]
  },
  {
   "cell_type": "code",
   "execution_count": 219,
   "metadata": {},
   "outputs": [],
   "source": [
    "Confidences= [max(P) for P in predictions]"
   ]
  },
  {
   "cell_type": "code",
   "execution_count": 221,
   "metadata": {},
   "outputs": [
    {
     "data": {
      "text/plain": [
       "(array([ 5.,  8.,  4.,  5., 13., 18., 19., 22., 20., 86.]),\n",
       " array([0.50281167, 0.5525305 , 0.60224934, 0.65196817, 0.701687  ,\n",
       "        0.75140584, 0.80112467, 0.8508435 , 0.90056233, 0.95028117,\n",
       "        1.        ]),\n",
       " <BarContainer object of 10 artists>)"
      ]
     },
     "execution_count": 221,
     "metadata": {},
     "output_type": "execute_result"
    },
    {
     "data": {
      "image/png": "[encoded data removed]",
      "text/plain": [
       "<Figure size 432x288 with 1 Axes>"
      ]
     },
     "metadata": {},
     "output_type": "display_data"
    }
   ],
   "source": [
    "import matplotlib.pyplot as plt\n",
    "plt.hist(Confidences)"
   ]
  },
  {
   "cell_type": "markdown",
   "metadata": {},
   "source": [
    "It appearss that majority of predictions are generated with high confidences values lying between (0.9 and 1)"
   ]
  },
  {
   "cell_type": "code",
   "execution_count": 175,
   "metadata": {},
   "outputs": [
    {
     "data": {
      "text/plain": [
       "([0.7831384539604187, 0.21686159074306488], '2022-11-25T00:42:35Z')"
      ]
     },
     "execution_count": 175,
     "metadata": {},
     "output_type": "execute_result"
    }
   ],
   "source": [
    "# My Simple Getter:\n",
    "def inf_time_img(obj):\n",
    "    inferences = obj[\"captureData\"][\"endpointOutput\"][\"data\"]\n",
    "    timestamp = obj[\"eventMetadata\"][\"inferenceTime\"]\n",
    "    images = obj[\"captureData\"][\"endpointInput\"][\"data\"]\n",
    "    return json.loads(inferences), timestamp, images\n",
    "\n",
    "simple_getter(json_data[2])"
   ]
  },
  {
   "cell_type": "code",
   "execution_count": 176,
   "metadata": {},
   "outputs": [
    {
     "name": "stdout",
     "output_type": "stream",
     "text": [
      "[0.7831384539604187, 0.21686159074306488]\n",
      "[0.7831384539604187, 0.21686159074306488]\n",
      "[0.7831384539604187, 0.21686159074306488]\n",
      "[0.7831384539604187, 0.21686159074306488]\n",
      "[0.9634264707565308, 0.036573611199855804]\n",
      "[0.7831384539604187, 0.21686159074306488]\n",
      "[0.7831384539604187, 0.21686159074306488]\n",
      "[0.7831384539604187, 0.21686159074306488]\n"
     ]
    }
   ],
   "source": [
    "\n",
    "for obj in json_data:\n",
    "    inference, timestamp, image = inf_time_img(obj)\n",
    "    print(inference)\n",
    "    "
   ]
  },
  {
   "cell_type": "code",
   "execution_count": 174,
   "metadata": {},
   "outputs": [
    {
     "data": {
      "image/png": "[encoded data removed]",
      "text/plain": [
       "<Figure size 1080x720 with 1 Axes>"
      ]
     },
     "metadata": {},
     "output_type": "display_data"
    }
   ],
   "source": [
    "import base64\n",
    "import io\n",
    "from matplotlib import pyplot as plt\n",
    "import matplotlib.image as mpimg\n",
    "\n",
    "\n",
    "# Populate the data for the x and y axis\n",
    "x = []\n",
    "y = []\n",
    "images = []\n",
    "\n",
    "for obj in json_data:\n",
    "    inference, timestamp, image = inf_time_img(obj)\n",
    "    \n",
    "    #Filter for images I checked multiple times:\n",
    "    if image not in images:\n",
    "        y.append(max(inference))\n",
    "        x.append(timestamp)\n",
    "        images.append(image)\n",
    "\n",
    "# Plot the data\n",
    "fig, ax = plt.subplots(figsize=(15,10))\n",
    "ax.scatter(x, y, c=['r' if k<.94 else 'b' for k in y ])\n",
    "ax.axhline(y=0.94, color='g', linestyle='--')\n",
    "plt.ylim(bottom=.50, top=1.1)\n",
    "\n",
    "# Add labels\n",
    "plt.ylabel(\"Confidence\", color='black', size=18)\n",
    "plt.suptitle(\"Observed Failed Inferences\", color='black', size=24)\n",
    "plt.title(\"Pictures inset for reference\", color='black', size=20)\n",
    "\n",
    "# Give it some pizzaz!\n",
    "plt.style.use(\"Solarize_Light2\")\n",
    "plt.gcf().autofmt_xdate()\n",
    "\n",
    "\n",
    "from matplotlib.offsetbox import OffsetImage, AnnotationBbox\n",
    "# Overlay images instead of datapoints\n",
    "\n",
    "for x0, y0, image in zip(x, y, images):\n",
    "    if y0 < 0.94:\n",
    "        # Convert image to usable format:\n",
    "        image = base64.b64decode(image)\n",
    "        image = io.BytesIO(image)\n",
    "        image = mpimg.imread(image, format='PNG')\n",
    "        \n",
    "        # Load image in OffsetImage for AnnotationBbox\n",
    "        im = OffsetImage(image, zoom=2.5)\n",
    "        \n",
    "        # Display image at x,y coords:\n",
    "        ab = AnnotationBbox(im, (x0, y0), frameon=False)\n",
    "        ax.add_artist(ab)\n",
    "\n",
    "plt.savefig('my-visualization.png')"
   ]
  },
  {
   "cell_type": "markdown",
   "metadata": {},
   "source": [
    "### Congratulations!\n",
    "\n",
    "You've reached the end of the project. In this project you created an event-drivent ML workflow that can be incorporated into the Scones Unlimited production architecture. You used the SageMaker Estimator API to deploy your SageMaker Model and Endpoint, and you used AWS Lambda and Step Functions to orchestrate your ML workflow. Using SageMaker Model Monitor, you instrumented and observed your Endpoint, and at the end of the project you built a visualization to help stakeholders understand the performance of the Endpoint over time. If you're up for it, you can even go further with these stretch goals:\n",
    "\n",
    "* Extend your workflow to incorporate more classes: the CIFAR dataset includes other vehicles that Scones Unlimited can identify with this model.\n",
    "* Modify your event driven workflow: can you rewrite your Lambda functions so that the workflow can process multiple image inputs in parallel? Can the Step Function \"fan out\" to accomodate this new workflow?\n",
    "* Consider the test data generator we provided for you. Can we use it to create a \"dummy data\" generator, to simulate a continuous stream of input data? Or a big paralell load of data?\n",
    "* What if we want to get notified every time our step function errors out? Can we use the Step Functions visual editor in conjunction with a service like SNS to accomplish this? Try it out!\n",
    "\n",
    "\n"
   ]
  },
  {
   "cell_type": "code",
   "execution_count": null,
   "metadata": {},
   "outputs": [],
   "source": []
  }
 ],
 "metadata": {
  "availableInstances": [
   {
    "_defaultOrder": 0,
    "_isFastLaunch": true,
    "category": "General purpose",
    "gpuNum": 0,
    "hideHardwareSpecs": false,
    "memoryGiB": 4,
    "name": "ml.t3.medium",
    "vcpuNum": 2
   },
   {
    "_defaultOrder": 1,
    "_isFastLaunch": false,
    "category": "General purpose",
    "gpuNum": 0,
    "hideHardwareSpecs": false,
    "memoryGiB": 8,
    "name": "ml.t3.large",
    "vcpuNum": 2
   },
   {
    "_defaultOrder": 2,
    "_isFastLaunch": false,
    "category": "General purpose",
    "gpuNum": 0,
    "hideHardwareSpecs": false,
    "memoryGiB": 16,
    "name": "ml.t3.xlarge",
    "vcpuNum": 4
   },
   {
    "_defaultOrder": 3,
    "_isFastLaunch": false,
    "category": "General purpose",
    "gpuNum": 0,
    "hideHardwareSpecs": false,
    "memoryGiB": 32,
    "name": "ml.t3.2xlarge",
    "vcpuNum": 8
   },
   {
    "_defaultOrder": 4,
    "_isFastLaunch": true,
    "category": "General purpose",
    "gpuNum": 0,
    "hideHardwareSpecs": false,
    "memoryGiB": 8,
    "name": "ml.m5.large",
    "vcpuNum": 2
   },
   {
    "_defaultOrder": 5,
    "_isFastLaunch": false,
    "category": "General purpose",
    "gpuNum": 0,
    "hideHardwareSpecs": false,
    "memoryGiB": 16,
    "name": "ml.m5.xlarge",
    "vcpuNum": 4
   },
   {
    "_defaultOrder": 6,
    "_isFastLaunch": false,
    "category": "General purpose",
    "gpuNum": 0,
    "hideHardwareSpecs": false,
    "memoryGiB": 32,
    "name": "ml.m5.2xlarge",
    "vcpuNum": 8
   },
   {
    "_defaultOrder": 7,
    "_isFastLaunch": false,
    "category": "General purpose",
    "gpuNum": 0,
    "hideHardwareSpecs": false,
    "memoryGiB": 64,
    "name": "ml.m5.4xlarge",
    "vcpuNum": 16
   },
   {
    "_defaultOrder": 8,
    "_isFastLaunch": false,
    "category": "General purpose",
    "gpuNum": 0,
    "hideHardwareSpecs": false,
    "memoryGiB": 128,
    "name": "ml.m5.8xlarge",
    "vcpuNum": 32
   },
   {
    "_defaultOrder": 9,
    "_isFastLaunch": false,
    "category": "General purpose",
    "gpuNum": 0,
    "hideHardwareSpecs": false,
    "memoryGiB": 192,
    "name": "ml.m5.12xlarge",
    "vcpuNum": 48
   },
   {
    "_defaultOrder": 10,
    "_isFastLaunch": false,
    "category": "General purpose",
    "gpuNum": 0,
    "hideHardwareSpecs": false,
    "memoryGiB": 256,
    "name": "ml.m5.16xlarge",
    "vcpuNum": 64
   },
   {
    "_defaultOrder": 11,
    "_isFastLaunch": false,
    "category": "General purpose",
    "gpuNum": 0,
    "hideHardwareSpecs": false,
    "memoryGiB": 384,
    "name": "ml.m5.24xlarge",
    "vcpuNum": 96
   },
   {
    "_defaultOrder": 12,
    "_isFastLaunch": false,
    "category": "General purpose",
    "gpuNum": 0,
    "hideHardwareSpecs": false,
    "memoryGiB": 8,
    "name": "ml.m5d.large",
    "vcpuNum": 2
   },
   {
    "_defaultOrder": 13,
    "_isFastLaunch": false,
    "category": "General purpose",
    "gpuNum": 0,
    "hideHardwareSpecs": false,
    "memoryGiB": 16,
    "name": "ml.m5d.xlarge",
    "vcpuNum": 4
   },
   {
    "_defaultOrder": 14,
    "_isFastLaunch": false,
    "category": "General purpose",
    "gpuNum": 0,
    "hideHardwareSpecs": false,
    "memoryGiB": 32,
    "name": "ml.m5d.2xlarge",
    "vcpuNum": 8
   },
   {
    "_defaultOrder": 15,
    "_isFastLaunch": false,
    "category": "General purpose",
    "gpuNum": 0,
    "hideHardwareSpecs": false,
    "memoryGiB": 64,
    "name": "ml.m5d.4xlarge",
    "vcpuNum": 16
   },
   {
    "_defaultOrder": 16,
    "_isFastLaunch": false,
    "category": "General purpose",
    "gpuNum": 0,
    "hideHardwareSpecs": false,
    "memoryGiB": 128,
    "name": "ml.m5d.8xlarge",
    "vcpuNum": 32
   },
   {
    "_defaultOrder": 17,
    "_isFastLaunch": false,
    "category": "General purpose",
    "gpuNum": 0,
    "hideHardwareSpecs": false,
    "memoryGiB": 192,
    "name": "ml.m5d.12xlarge",
    "vcpuNum": 48
   },
   {
    "_defaultOrder": 18,
    "_isFastLaunch": false,
    "category": "General purpose",
    "gpuNum": 0,
    "hideHardwareSpecs": false,
    "memoryGiB": 256,
    "name": "ml.m5d.16xlarge",
    "vcpuNum": 64
   },
   {
    "_defaultOrder": 19,
    "_isFastLaunch": false,
    "category": "General purpose",
    "gpuNum": 0,
    "hideHardwareSpecs": false,
    "memoryGiB": 384,
    "name": "ml.m5d.24xlarge",
    "vcpuNum": 96
   },
   {
    "_defaultOrder": 20,
    "_isFastLaunch": false,
    "category": "General purpose",
    "gpuNum": 0,
    "hideHardwareSpecs": true,
    "memoryGiB": 0,
    "name": "ml.geospatial.interactive",
    "supportedImageNames": [
     "sagemaker-geospatial-v1-0"
    ],
    "vcpuNum": 0
   },
   {
    "_defaultOrder": 21,
    "_isFastLaunch": true,
    "category": "Compute optimized",
    "gpuNum": 0,
    "hideHardwareSpecs": false,
    "memoryGiB": 4,
    "name": "ml.c5.large",
    "vcpuNum": 2
   },
   {
    "_defaultOrder": 22,
    "_isFastLaunch": false,
    "category": "Compute optimized",
    "gpuNum": 0,
    "hideHardwareSpecs": false,
    "memoryGiB": 8,
    "name": "ml.c5.xlarge",
    "vcpuNum": 4
   },
   {
    "_defaultOrder": 23,
    "_isFastLaunch": false,
    "category": "Compute optimized",
    "gpuNum": 0,
    "hideHardwareSpecs": false,
    "memoryGiB": 16,
    "name": "ml.c5.2xlarge",
    "vcpuNum": 8
   },
   {
    "_defaultOrder": 24,
    "_isFastLaunch": false,
    "category": "Compute optimized",
    "gpuNum": 0,
    "hideHardwareSpecs": false,
    "memoryGiB": 32,
    "name": "ml.c5.4xlarge",
    "vcpuNum": 16
   },
   {
    "_defaultOrder": 25,
    "_isFastLaunch": false,
    "category": "Compute optimized",
    "gpuNum": 0,
    "hideHardwareSpecs": false,
    "memoryGiB": 72,
    "name": "ml.c5.9xlarge",
    "vcpuNum": 36
   },
   {
    "_defaultOrder": 26,
    "_isFastLaunch": false,
    "category": "Compute optimized",
    "gpuNum": 0,
    "hideHardwareSpecs": false,
    "memoryGiB": 96,
    "name": "ml.c5.12xlarge",
    "vcpuNum": 48
   },
   {
    "_defaultOrder": 27,
    "_isFastLaunch": false,
    "category": "Compute optimized",
    "gpuNum": 0,
    "hideHardwareSpecs": false,
    "memoryGiB": 144,
    "name": "ml.c5.18xlarge",
    "vcpuNum": 72
   },
   {
    "_defaultOrder": 28,
    "_isFastLaunch": false,
    "category": "Compute optimized",
    "gpuNum": 0,
    "hideHardwareSpecs": false,
    "memoryGiB": 192,
    "name": "ml.c5.24xlarge",
    "vcpuNum": 96
   },
   {
    "_defaultOrder": 29,
    "_isFastLaunch": true,
    "category": "Accelerated computing",
    "gpuNum": 1,
    "hideHardwareSpecs": false,
    "memoryGiB": 16,
    "name": "ml.g4dn.xlarge",
    "vcpuNum": 4
   },
   {
    "_defaultOrder": 30,
    "_isFastLaunch": false,
    "category": "Accelerated computing",
    "gpuNum": 1,
    "hideHardwareSpecs": false,
    "memoryGiB": 32,
    "name": "ml.g4dn.2xlarge",
    "vcpuNum": 8
   },
   {
    "_defaultOrder": 31,
    "_isFastLaunch": false,
    "category": "Accelerated computing",
    "gpuNum": 1,
    "hideHardwareSpecs": false,
    "memoryGiB": 64,
    "name": "ml.g4dn.4xlarge",
    "vcpuNum": 16
   },
   {
    "_defaultOrder": 32,
    "_isFastLaunch": false,
    "category": "Accelerated computing",
    "gpuNum": 1,
    "hideHardwareSpecs": false,
    "memoryGiB": 128,
    "name": "ml.g4dn.8xlarge",
    "vcpuNum": 32
   },
   {
    "_defaultOrder": 33,
    "_isFastLaunch": false,
    "category": "Accelerated computing",
    "gpuNum": 4,
    "hideHardwareSpecs": false,
    "memoryGiB": 192,
    "name": "ml.g4dn.12xlarge",
    "vcpuNum": 48
   },
   {
    "_defaultOrder": 34,
    "_isFastLaunch": false,
    "category": "Accelerated computing",
    "gpuNum": 1,
    "hideHardwareSpecs": false,
    "memoryGiB": 256,
    "name": "ml.g4dn.16xlarge",
    "vcpuNum": 64
   },
   {
    "_defaultOrder": 35,
    "_isFastLaunch": false,
    "category": "Accelerated computing",
    "gpuNum": 1,
    "hideHardwareSpecs": false,
    "memoryGiB": 61,
    "name": "ml.p3.2xlarge",
    "vcpuNum": 8
   },
   {
    "_defaultOrder": 36,
    "_isFastLaunch": false,
    "category": "Accelerated computing",
    "gpuNum": 4,
    "hideHardwareSpecs": false,
    "memoryGiB": 244,
    "name": "ml.p3.8xlarge",
    "vcpuNum": 32
   },
   {
    "_defaultOrder": 37,
    "_isFastLaunch": false,
    "category": "Accelerated computing",
    "gpuNum": 8,
    "hideHardwareSpecs": false,
    "memoryGiB": 488,
    "name": "ml.p3.16xlarge",
    "vcpuNum": 64
   },
   {
    "_defaultOrder": 38,
    "_isFastLaunch": false,
    "category": "Accelerated computing",
    "gpuNum": 8,
    "hideHardwareSpecs": false,
    "memoryGiB": 768,
    "name": "ml.p3dn.24xlarge",
    "vcpuNum": 96
   },
   {
    "_defaultOrder": 39,
    "_isFastLaunch": false,
    "category": "Memory Optimized",
    "gpuNum": 0,
    "hideHardwareSpecs": false,
    "memoryGiB": 16,
    "name": "ml.r5.large",
    "vcpuNum": 2
   },
   {
    "_defaultOrder": 40,
    "_isFastLaunch": false,
    "category": "Memory Optimized",
    "gpuNum": 0,
    "hideHardwareSpecs": false,
    "memoryGiB": 32,
    "name": "ml.r5.xlarge",
    "vcpuNum": 4
   },
   {
    "_defaultOrder": 41,
    "_isFastLaunch": false,
    "category": "Memory Optimized",
    "gpuNum": 0,
    "hideHardwareSpecs": false,
    "memoryGiB": 64,
    "name": "ml.r5.2xlarge",
    "vcpuNum": 8
   },
   {
    "_defaultOrder": 42,
    "_isFastLaunch": false,
    "category": "Memory Optimized",
    "gpuNum": 0,
    "hideHardwareSpecs": false,
    "memoryGiB": 128,
    "name": "ml.r5.4xlarge",
    "vcpuNum": 16
   },
   {
    "_defaultOrder": 43,
    "_isFastLaunch": false,
    "category": "Memory Optimized",
    "gpuNum": 0,
    "hideHardwareSpecs": false,
    "memoryGiB": 256,
    "name": "ml.r5.8xlarge",
    "vcpuNum": 32
   },
   {
    "_defaultOrder": 44,
    "_isFastLaunch": false,
    "category": "Memory Optimized",
    "gpuNum": 0,
    "hideHardwareSpecs": false,
    "memoryGiB": 384,
    "name": "ml.r5.12xlarge",
    "vcpuNum": 48
   },
   {
    "_defaultOrder": 45,
    "_isFastLaunch": false,
    "category": "Memory Optimized",
    "gpuNum": 0,
    "hideHardwareSpecs": false,
    "memoryGiB": 512,
    "name": "ml.r5.16xlarge",
    "vcpuNum": 64
   },
   {
    "_defaultOrder": 46,
    "_isFastLaunch": false,
    "category": "Memory Optimized",
    "gpuNum": 0,
    "hideHardwareSpecs": false,
    "memoryGiB": 768,
    "name": "ml.r5.24xlarge",
    "vcpuNum": 96
   },
   {
    "_defaultOrder": 47,
    "_isFastLaunch": false,
    "category": "Accelerated computing",
    "gpuNum": 1,
    "hideHardwareSpecs": false,
    "memoryGiB": 16,
    "name": "ml.g5.xlarge",
    "vcpuNum": 4
   },
   {
    "_defaultOrder": 48,
    "_isFastLaunch": false,
    "category": "Accelerated computing",
    "gpuNum": 1,
    "hideHardwareSpecs": false,
    "memoryGiB": 32,
    "name": "ml.g5.2xlarge",
    "vcpuNum": 8
   },
   {
    "_defaultOrder": 49,
    "_isFastLaunch": false,
    "category": "Accelerated computing",
    "gpuNum": 1,
    "hideHardwareSpecs": false,
    "memoryGiB": 64,
    "name": "ml.g5.4xlarge",
    "vcpuNum": 16
   },
   {
    "_defaultOrder": 50,
    "_isFastLaunch": false,
    "category": "Accelerated computing",
    "gpuNum": 1,
    "hideHardwareSpecs": false,
    "memoryGiB": 128,
    "name": "ml.g5.8xlarge",
    "vcpuNum": 32
   },
   {
    "_defaultOrder": 51,
    "_isFastLaunch": false,
    "category": "Accelerated computing",
    "gpuNum": 1,
    "hideHardwareSpecs": false,
    "memoryGiB": 256,
    "name": "ml.g5.16xlarge",
    "vcpuNum": 64
   },
   {
    "_defaultOrder": 52,
    "_isFastLaunch": false,
    "category": "Accelerated computing",
    "gpuNum": 4,
    "hideHardwareSpecs": false,
    "memoryGiB": 192,
    "name": "ml.g5.12xlarge",
    "vcpuNum": 48
   },
   {
    "_defaultOrder": 53,
    "_isFastLaunch": false,
    "category": "Accelerated computing",
    "gpuNum": 4,
    "hideHardwareSpecs": false,
    "memoryGiB": 384,
    "name": "ml.g5.24xlarge",
    "vcpuNum": 96
   },
   {
    "_defaultOrder": 54,
    "_isFastLaunch": false,
    "category": "Accelerated computing",
    "gpuNum": 8,
    "hideHardwareSpecs": false,
    "memoryGiB": 768,
    "name": "ml.g5.48xlarge",
    "vcpuNum": 192
   },
   {
    "_defaultOrder": 55,
    "_isFastLaunch": false,
    "category": "Accelerated computing",
    "gpuNum": 8,
    "hideHardwareSpecs": false,
    "memoryGiB": 1152,
    "name": "ml.p4d.24xlarge",
    "vcpuNum": 96
   },
   {
    "_defaultOrder": 56,
    "_isFastLaunch": false,
    "category": "Accelerated computing",
    "gpuNum": 8,
    "hideHardwareSpecs": false,
    "memoryGiB": 1152,
    "name": "ml.p4de.24xlarge",
    "vcpuNum": 96
   }
  ],
  "instance_type": "ml.t3.medium",
  "kernelspec": {
   "display_name": "Python 3 (Data Science 3.0)",
   "language": "python",
   "name": "python3__SAGEMAKER_INTERNAL__arn:aws:sagemaker:us-east-1:081325390199:image/sagemaker-data-science-310-v1"
  },
  "language_info": {
   "codemirror_mode": {
    "name": "ipython",
    "version": 3
   },
   "file_extension": ".py",
   "mimetype": "text/x-python",
   "name": "python",
   "nbconvert_exporter": "python",
   "pygments_lexer": "ipython3",
   "version": "3.10.6"
  }
 },
 "nbformat": 4,
 "nbformat_minor": 4
}
